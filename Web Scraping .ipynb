{
 "cells": [
  {
   "cell_type": "markdown",
   "metadata": {},
   "source": [
    "**Web Scraping and Data Analysis** \n",
    "\n",
    "IMDB TOP Action Movies "
   ]
  },
  {
   "cell_type": "markdown",
   "metadata": {},
   "source": [
    "Importing the necessary libraries:"
   ]
  },
  {
   "cell_type": "code",
   "execution_count": 264,
   "metadata": {},
   "outputs": [],
   "source": [
    "import pandas as pd\n",
    "import numpy as np\n",
    "import requests\n",
    "from bs4 import BeautifulSoup as soup"
   ]
  },
  {
   "cell_type": "code",
   "execution_count": 1,
   "metadata": {},
   "outputs": [],
   "source": [
    "from requests import get"
   ]
  },
  {
   "cell_type": "code",
   "execution_count": 58,
   "metadata": {},
   "outputs": [],
   "source": [
    "url = get(\"https://www.imdb.com/search/title/?genres=action&sort=user_rating,desc&title_type=feature&num_votes=25000,&pf_rd_m=A2FGELUUNOQJNL&pf_rd_p=5aab685f-35eb-40f3-95f7-c53f09d542c3&pf_rd_r=BG1CG1TDYDB4FQYYS55B&pf_rd_s=right-6&pf_rd_t=15506&pf_rd_i=top&ref_=chttp_gnr_1%22)%20request%20=%20url.text\")"
   ]
  },
  {
   "cell_type": "code",
   "execution_count": 62,
   "metadata": {},
   "outputs": [],
   "source": [
    "request = url.text"
   ]
  },
  {
   "cell_type": "code",
   "execution_count": 63,
   "metadata": {},
   "outputs": [],
   "source": [
    "raw_data = soup(request, 'html.parser')"
   ]
  },
  {
   "cell_type": "code",
   "execution_count": 135,
   "metadata": {
    "scrolled": false
   },
   "outputs": [
    {
     "data": {
      "text/plain": [
       "'The Dark Knight'"
      ]
     },
     "execution_count": 135,
     "metadata": {},
     "output_type": "execute_result"
    }
   ],
   "source": [
    "movies = raw_data.find_all('div', {'class': 'lister-item mode-advanced'})\n",
    "\n",
    "first_movie = movies[0]\n",
    "first_movie.h3.a.text # Name of the movie"
   ]
  },
  {
   "cell_type": "code",
   "execution_count": 290,
   "metadata": {},
   "outputs": [
    {
     "data": {
      "text/plain": [
       "2008"
      ]
     },
     "execution_count": 290,
     "metadata": {},
     "output_type": "execute_result"
    }
   ],
   "source": [
    "int(first_movie.find('span',{'class': 'lister-item-year text-muted unbold'}).text[1:5]) # Release date"
   ]
  },
  {
   "cell_type": "code",
   "execution_count": 262,
   "metadata": {},
   "outputs": [
    {
     "data": {
      "text/plain": [
       "9.0"
      ]
     },
     "execution_count": 262,
     "metadata": {},
     "output_type": "execute_result"
    }
   ],
   "source": [
    "float(first_movie.find('div', { 'class': 'inline-block ratings-imdb-rating'})['data-value']) # Rating IMDB"
   ]
  },
  {
   "cell_type": "code",
   "execution_count": 263,
   "metadata": {},
   "outputs": [
    {
     "data": {
      "text/plain": [
       "84"
      ]
     },
     "execution_count": 263,
     "metadata": {},
     "output_type": "execute_result"
    }
   ],
   "source": [
    "int(first_movie.find('div', {'class':'inline-block ratings-metascore'}).text[1:5]) # Metascore"
   ]
  },
  {
   "cell_type": "code",
   "execution_count": 173,
   "metadata": {},
   "outputs": [
    {
     "data": {
      "text/plain": [
       "2329259"
      ]
     },
     "execution_count": 173,
     "metadata": {},
     "output_type": "execute_result"
    }
   ],
   "source": [
    "int(first_movie.find('span', {'name': 'nv'})['data-value'])# Votes"
   ]
  },
  {
   "cell_type": "code",
   "execution_count": 299,
   "metadata": {
    "scrolled": true
   },
   "outputs": [
    {
     "data": {
      "text/plain": [
       "152"
      ]
     },
     "execution_count": 299,
     "metadata": {},
     "output_type": "execute_result"
    }
   ],
   "source": [
    "int(first_movie.find('span', {'class':'runtime'}).text[:4]) #Duration"
   ]
  },
  {
   "cell_type": "code",
   "execution_count": 303,
   "metadata": {},
   "outputs": [
    {
     "data": {
      "text/plain": [
       "'152 min'"
      ]
     },
     "execution_count": 303,
     "metadata": {},
     "output_type": "execute_result"
    }
   ],
   "source": [
    "first_movie.find('span', {'class':'runtime'}).text[]"
   ]
  },
  {
   "cell_type": "code",
   "execution_count": 222,
   "metadata": {},
   "outputs": [
    {
     "data": {
      "text/plain": [
       "['Action', 'Crime', 'Drama']"
      ]
     },
     "execution_count": 222,
     "metadata": {},
     "output_type": "execute_result"
    }
   ],
   "source": [
    "(first_movie.find('span', {'class':'genre'}).text[1:].replace(' ', '')).split(\",\") #genre"
   ]
  },
  {
   "cell_type": "code",
   "execution_count": 232,
   "metadata": {},
   "outputs": [
    {
     "data": {
      "text/plain": [
       "534.86"
      ]
     },
     "execution_count": 232,
     "metadata": {},
     "output_type": "execute_result"
    }
   ],
   "source": [
    "float(first_movie.find_all('span', attrs = {'name':'nv'})[1].text[1:-1]) #gross"
   ]
  },
  {
   "cell_type": "code",
   "execution_count": 235,
   "metadata": {},
   "outputs": [],
   "source": [
    "first_movie.find('p', {'class': 'href'})"
   ]
  },
  {
   "cell_type": "code",
   "execution_count": 248,
   "metadata": {},
   "outputs": [
    {
     "data": {
      "text/plain": [
       "'Christopher Nolan'"
      ]
     },
     "execution_count": 248,
     "metadata": {},
     "output_type": "execute_result"
    }
   ],
   "source": [
    "first_movie.find('p',class_='').find_all('a')[0].text # Director"
   ]
  },
  {
   "cell_type": "code",
   "execution_count": 280,
   "metadata": {},
   "outputs": [
    {
     "data": {
      "text/plain": [
       "'Christian Bale'"
      ]
     },
     "execution_count": 280,
     "metadata": {},
     "output_type": "execute_result"
    }
   ],
   "source": [
    "first_movie.find('p',class_='').find_all('a')[1].text #Star"
   ]
  },
  {
   "cell_type": "code",
   "execution_count": 329,
   "metadata": {},
   "outputs": [
    {
     "data": {
      "text/plain": [
       "[('The Dark Knight',\n",
       "  '2008',\n",
       "  9.0,\n",
       "  84,\n",
       "  '152 min',\n",
       "  ['Action', 'Crime', 'Drama'],\n",
       "  534.86,\n",
       "  'Christopher Nolan',\n",
       "  'Christian Bale'),\n",
       " ('Der Herr der Ringe: Die Rückkehr des Königs',\n",
       "  '2003',\n",
       "  8.9,\n",
       "  94,\n",
       "  '201 min',\n",
       "  ['Action', 'Adventure', 'Drama'],\n",
       "  377.85,\n",
       "  'Peter Jackson',\n",
       "  'Elijah Wood'),\n",
       " ('Berg II',\n",
       "  '2016',\n",
       "  8.8,\n",
       "  0,\n",
       "  '135 min',\n",
       "  ['Action', 'Drama', 'War'],\n",
       "  0,\n",
       "  'Alper Caglar',\n",
       "  'Caglar Ertugrul'),\n",
       " ('Inception',\n",
       "  '2010',\n",
       "  8.8,\n",
       "  74,\n",
       "  '148 min',\n",
       "  ['Action', 'Adventure', 'Sci-Fi'],\n",
       "  292.58,\n",
       "  'Christopher Nolan',\n",
       "  'Leonardo DiCaprio'),\n",
       " ('Der Herr der Ringe: Die Gefährten',\n",
       "  '2001',\n",
       "  8.8,\n",
       "  92,\n",
       "  '178 min',\n",
       "  ['Action', 'Adventure', 'Drama'],\n",
       "  315.54,\n",
       "  'Peter Jackson',\n",
       "  'Elijah Wood'),\n",
       " ('Der Herr der Ringe: Die zwei Türme',\n",
       "  '2002',\n",
       "  8.7,\n",
       "  87,\n",
       "  '179 min',\n",
       "  ['Action', 'Adventure', 'Drama'],\n",
       "  342.55,\n",
       "  'Peter Jackson',\n",
       "  'Elijah Wood'),\n",
       " ('Matrix',\n",
       "  '1999',\n",
       "  8.7,\n",
       "  73,\n",
       "  '136 min',\n",
       "  ['Action', 'Sci-Fi'],\n",
       "  171.48,\n",
       "  'Lana Wachowski',\n",
       "  'Lilly Wachowski'),\n",
       " ('Das Imperium schlägt zurück',\n",
       "  '1980',\n",
       "  8.7,\n",
       "  82,\n",
       "  '124 min',\n",
       "  ['Action', 'Adventure', 'Fantasy'],\n",
       "  290.48,\n",
       "  'Irvin Kershner',\n",
       "  'Mark Hamill'),\n",
       " ('Krieg der Sterne',\n",
       "  '1977',\n",
       "  8.6,\n",
       "  90,\n",
       "  '121 min',\n",
       "  ['Action', 'Adventure', 'Fantasy'],\n",
       "  322.74,\n",
       "  'George Lucas',\n",
       "  'Mark Hamill'),\n",
       " ('Harakiri',\n",
       "  '1962',\n",
       "  8.6,\n",
       "  85,\n",
       "  '133 min',\n",
       "  ['Action', 'Drama', 'Mystery'],\n",
       "  0,\n",
       "  'Masaki Kobayashi',\n",
       "  'Tatsuya Nakadai'),\n",
       " ('Die sieben Samurai',\n",
       "  '1954',\n",
       "  8.6,\n",
       "  98,\n",
       "  '207 min',\n",
       "  ['Action', 'Adventure', 'Drama'],\n",
       "  0.27,\n",
       "  'Akira Kurosawa',\n",
       "  'Toshirô Mifune'),\n",
       " ('Ratsasan',\n",
       "  '2018',\n",
       "  8.5,\n",
       "  0,\n",
       "  '170 min',\n",
       "  ['Action', 'Crime', 'Thriller'],\n",
       "  0,\n",
       "  'Ram Kumar',\n",
       "  'Vishnu Vishal'),\n",
       " ('Gladiator',\n",
       "  '2000',\n",
       "  8.5,\n",
       "  67,\n",
       "  '155 min',\n",
       "  ['Action', 'Adventure', 'Drama'],\n",
       "  187.71,\n",
       "  'Ridley Scott',\n",
       "  'Russell Crowe'),\n",
       " ('Léon: Der Profi',\n",
       "  '1994',\n",
       "  8.5,\n",
       "  64,\n",
       "  '110 min',\n",
       "  ['Action', 'Crime', 'Drama'],\n",
       "  19.5,\n",
       "  'Luc Besson',\n",
       "  'Jean Reno'),\n",
       " ('Terminator 2: Tag der Abrechnung',\n",
       "  '1991',\n",
       "  8.5,\n",
       "  75,\n",
       "  '137 min',\n",
       "  ['Action', 'Sci-Fi'],\n",
       "  204.84,\n",
       "  'James Cameron',\n",
       "  'Arnold Schwarzenegger'),\n",
       " ('Vikram Vedha',\n",
       "  '2017',\n",
       "  8.4,\n",
       "  0,\n",
       "  '147 min',\n",
       "  ['Action', 'Crime', 'Drama'],\n",
       "  0,\n",
       "  'Gayatri',\n",
       "  'Pushkar'),\n",
       " ('Dangal: Die Hoffnung auf den großen Sieg',\n",
       "  '2016',\n",
       "  8.4,\n",
       "  0,\n",
       "  '161 min',\n",
       "  ['Action', 'Biography', 'Drama'],\n",
       "  12.39,\n",
       "  'Nitesh Tiwari',\n",
       "  'Aamir Khan'),\n",
       " ('Spider-Man: A New Universe',\n",
       "  '2018',\n",
       "  8.4,\n",
       "  87,\n",
       "  '117 min',\n",
       "  ['Animation', 'Action', 'Adventure'],\n",
       "  190.24,\n",
       "  'Bob Persichetti',\n",
       "  'Peter Ramsey'),\n",
       " ('Avengers: Endgame',\n",
       "  '2019',\n",
       "  8.4,\n",
       "  78,\n",
       "  '181 min',\n",
       "  ['Action', 'Adventure', 'Drama'],\n",
       "  858.37,\n",
       "  'Anthony Russo',\n",
       "  'Joe Russo'),\n",
       " ('Avengers: Infinity War',\n",
       "  '2018',\n",
       "  8.4,\n",
       "  68,\n",
       "  '149 min',\n",
       "  ['Action', 'Adventure', 'Sci-Fi'],\n",
       "  678.82,\n",
       "  'Anthony Russo',\n",
       "  'Joe Russo'),\n",
       " ('The Dark Knight Rises',\n",
       "  '2012',\n",
       "  8.4,\n",
       "  78,\n",
       "  '164 min',\n",
       "  ['Action', 'Adventure'],\n",
       "  448.14,\n",
       "  'Christopher Nolan',\n",
       "  'Christian Bale'),\n",
       " ('Oldboy',\n",
       "  '2003',\n",
       "  8.4,\n",
       "  77,\n",
       "  '120 min',\n",
       "  ['Action', 'Drama', 'Mystery'],\n",
       "  0.71,\n",
       "  'Chan-wook Park',\n",
       "  'Choi Min-sik'),\n",
       " ('Prinzessin Mononoke',\n",
       "  '1997',\n",
       "  8.4,\n",
       "  76,\n",
       "  '134 min',\n",
       "  ['Animation', 'Action', 'Adventure'],\n",
       "  2.38,\n",
       "  'Hayao Miyazaki',\n",
       "  'Yôji Matsuda'),\n",
       " ('Jäger des verlorenen Schatzes',\n",
       "  '1981',\n",
       "  8.4,\n",
       "  85,\n",
       "  '115 min',\n",
       "  ['Action', 'Adventure'],\n",
       "  248.16,\n",
       "  'Steven Spielberg',\n",
       "  'Harrison Ford'),\n",
       " ('Zack Snyder: Justice League',\n",
       "  '2021',\n",
       "  8.3,\n",
       "  54,\n",
       "  '242 min',\n",
       "  ['Action', 'Adventure', 'Fantasy'],\n",
       "  0,\n",
       "  'Zack Snyder',\n",
       "  'Henry Cavill'),\n",
       " ('Aliens - Die Rückkehr',\n",
       "  '1986',\n",
       "  8.3,\n",
       "  84,\n",
       "  '137 min',\n",
       "  ['Action', 'Adventure', 'Sci-Fi'],\n",
       "  85.16,\n",
       "  'James Cameron',\n",
       "  'Sigourney Weaver'),\n",
       " ('Die Rückkehr der Jedi-Ritter',\n",
       "  '1983',\n",
       "  8.3,\n",
       "  58,\n",
       "  '131 min',\n",
       "  ['Action', 'Adventure', 'Fantasy'],\n",
       "  309.13,\n",
       "  'Richard Marquand',\n",
       "  'Mark Hamill'),\n",
       " ('Lethal Strike',\n",
       "  '2018',\n",
       "  8.2,\n",
       "  0,\n",
       "  '138 min',\n",
       "  ['Action', 'Drama', 'War'],\n",
       "  4.19,\n",
       "  'Aditya Dhar',\n",
       "  'Vicky Kaushal'),\n",
       " ('K.G.F: Chapter 1',\n",
       "  '2018',\n",
       "  8.2,\n",
       "  0,\n",
       "  '156 min',\n",
       "  ['Action', 'Drama'],\n",
       "  0,\n",
       "  'Prashanth Neel',\n",
       "  'Yash'),\n",
       " ('Baahubali 2: The Conclusion',\n",
       "  '2017',\n",
       "  8.2,\n",
       "  0,\n",
       "  '167 min',\n",
       "  ['Action', 'Adventure', 'Drama'],\n",
       "  20.19,\n",
       "  'S.S. Rajamouli',\n",
       "  'Prabhas'),\n",
       " ('Vishwaroopam',\n",
       "  '2013',\n",
       "  8.2,\n",
       "  0,\n",
       "  '148 min',\n",
       "  ['Action', 'Thriller'],\n",
       "  0,\n",
       "  'Kamal Haasan',\n",
       "  'Pooja Kumar'),\n",
       " ('Gangs of Wasseypur',\n",
       "  '2012',\n",
       "  8.2,\n",
       "  89,\n",
       "  '321 min',\n",
       "  ['Action', 'Comedy', 'Crime'],\n",
       "  0,\n",
       "  'Anurag Kashyap',\n",
       "  'Manoj Bajpayee'),\n",
       " ('Paan Singh Tomar',\n",
       "  '2012',\n",
       "  8.2,\n",
       "  0,\n",
       "  '135 min',\n",
       "  ['Action', 'Biography', 'Crime'],\n",
       "  0.04,\n",
       "  'Tigmanshu Dhulia',\n",
       "  'Irrfan Khan'),\n",
       " ('Warrior',\n",
       "  '2011',\n",
       "  8.2,\n",
       "  71,\n",
       "  '140 min',\n",
       "  ['Action', 'Drama', 'Sport'],\n",
       "  13.66,\n",
       "  \"Gavin O'Connor\",\n",
       "  'Tom Hardy'),\n",
       " ('V wie Vendetta',\n",
       "  '2005',\n",
       "  8.2,\n",
       "  62,\n",
       "  '132 min',\n",
       "  ['Action', 'Drama', 'Sci-Fi'],\n",
       "  70.51,\n",
       "  'James McTeigue',\n",
       "  'Hugo Weaving'),\n",
       " ('Batman Begins',\n",
       "  '2005',\n",
       "  8.2,\n",
       "  70,\n",
       "  '140 min',\n",
       "  ['Action', 'Adventure'],\n",
       "  206.85,\n",
       "  'Christopher Nolan',\n",
       "  'Christian Bale'),\n",
       " ('Hera Pheri',\n",
       "  '2000',\n",
       "  8.2,\n",
       "  0,\n",
       "  '156 min',\n",
       "  ['Action', 'Comedy', 'Crime'],\n",
       "  0,\n",
       "  'Priyadarshan',\n",
       "  'Akshay Kumar'),\n",
       " ('Bube Dame König grAS',\n",
       "  '1998',\n",
       "  8.2,\n",
       "  66,\n",
       "  '107 min',\n",
       "  ['Action', 'Comedy', 'Crime'],\n",
       "  3.9,\n",
       "  'Guy Ritchie',\n",
       "  'Jason Flemyng'),\n",
       " ('Andaz Apna Apna',\n",
       "  '1994',\n",
       "  8.2,\n",
       "  0,\n",
       "  '160 min',\n",
       "  ['Action', 'Comedy', 'Romance'],\n",
       "  0,\n",
       "  'Rajkumar Santoshi',\n",
       "  'Aamir Khan'),\n",
       " ('Indiana Jones und der letzte Kreuzzug',\n",
       "  '1989',\n",
       "  8.2,\n",
       "  65,\n",
       "  '127 min',\n",
       "  ['Action', 'Adventure'],\n",
       "  197.17,\n",
       "  'Steven Spielberg',\n",
       "  'Harrison Ford'),\n",
       " ('Stirb langsam',\n",
       "  '1988',\n",
       "  8.2,\n",
       "  72,\n",
       "  '132 min',\n",
       "  ['Action', 'Thriller'],\n",
       "  83.01,\n",
       "  'John McTiernan',\n",
       "  'Bruce Willis'),\n",
       " ('Ran',\n",
       "  '1985',\n",
       "  8.2,\n",
       "  96,\n",
       "  '162 min',\n",
       "  ['Action', 'Drama', 'War'],\n",
       "  4.14,\n",
       "  'Akira Kurosawa',\n",
       "  'Tatsuya Nakadai'),\n",
       " ('Sholay',\n",
       "  '1975',\n",
       "  8.2,\n",
       "  0,\n",
       "  '204 min',\n",
       "  ['Action', 'Adventure', 'Comedy'],\n",
       "  0,\n",
       "  'Ramesh Sippy',\n",
       "  'Sanjeev Kumar'),\n",
       " ('Yojimbo - Der Leibwächter',\n",
       "  '1961',\n",
       "  8.2,\n",
       "  0,\n",
       "  '110 min',\n",
       "  ['Action', 'Drama', 'Thriller'],\n",
       "  0,\n",
       "  'Akira Kurosawa',\n",
       "  'Toshirô Mifune'),\n",
       " ('Sherlock Holmes Jr.',\n",
       "  '1924',\n",
       "  8.2,\n",
       "  0,\n",
       "  '45 min',\n",
       "  ['Action', 'Comedy', 'Romance'],\n",
       "  0.98,\n",
       "  'Buster Keaton',\n",
       "  'Buster Keaton'),\n",
       " ('Haider',\n",
       "  '2014',\n",
       "  8.1,\n",
       "  0,\n",
       "  '160 min',\n",
       "  ['Action', 'Crime', 'Drama'],\n",
       "  0.9,\n",
       "  'Vishal Bhardwaj',\n",
       "  'Shahid Kapoor'),\n",
       " ('Logan: The Wolverine',\n",
       "  '2017',\n",
       "  8.1,\n",
       "  77,\n",
       "  '137 min',\n",
       "  ['Action', 'Drama', 'Sci-Fi'],\n",
       "  226.28,\n",
       "  'James Mangold',\n",
       "  'Hugh Jackman'),\n",
       " ('1 - Nenokkadine',\n",
       "  '2014',\n",
       "  8.1,\n",
       "  0,\n",
       "  '170 min',\n",
       "  ['Action', 'Thriller'],\n",
       "  0,\n",
       "  'Sukumar',\n",
       "  'Mahesh Babu'),\n",
       " ('Rush: Alles für den Sieg',\n",
       "  'I) (',\n",
       "  8.1,\n",
       "  74,\n",
       "  '123 min',\n",
       "  ['Action', 'Biography', 'Drama'],\n",
       "  26.95,\n",
       "  'Ron Howard',\n",
       "  'Daniel Brühl'),\n",
       " ('Le Mans 66 - Gegen jede Chance',\n",
       "  '2019',\n",
       "  8.1,\n",
       "  81,\n",
       "  '152 min',\n",
       "  ['Action', 'Biography', 'Drama'],\n",
       "  117.62,\n",
       "  'James Mangold',\n",
       "  'Matt Damon')]"
      ]
     },
     "execution_count": 329,
     "metadata": {},
     "output_type": "execute_result"
    }
   ],
   "source": [
    "Title = []\n",
    "Year = []\n",
    "Rating = []\n",
    "Metascore = []\n",
    "Duration = []\n",
    "Genre = []\n",
    "Gross = []\n",
    "Director = []\n",
    "Star = []\n",
    "\n",
    "\n",
    "\n",
    "\n",
    "\n",
    "for i in movies:\n",
    "    Title.append(i.h3.a.text)\n",
    "    Year.append(i.find ('span', {'class':'lister-item-year text-muted unbold'}).text[1:5])\n",
    "    Rating.append(float(i.find('div', { 'class': 'inline-block ratings-imdb-rating'})['data-value']))\n",
    "    \n",
    "    #Metascore:\n",
    "    try:\n",
    "        Metascore.append(int(i.find('div', {'class':'inline-block ratings-metascore'}).text[1:5]))\n",
    "    except:\n",
    "        Metascore.append(0)\n",
    "    \n",
    "    Duration.append(i.find('span', {'class':'runtime'}).text)\n",
    "    Genre.append((i.find('span', {'class':'genre'}).text[1:].replace(' ', '')).split(\",\"))\n",
    "    \n",
    "    #Gross:\n",
    "    try:\n",
    "        Gross.append((float(i.find_all('span', attrs = {'name':'nv'})[1].text[1:-1])))\n",
    "    except:\n",
    "        Gross.append(0)\n",
    "     \n",
    "    Director.append(i.find('p',class_='').find_all('a')[0].text)\n",
    "    Star.append(i.find('p',class_='').find_all('a')[1].text)\n",
    "    \n",
    "data=list(zip(Title,Year,Rating,Metascore,Duration,Genre,Gross,Director,Star))\n",
    "data\n",
    " \n",
    "    #Rating.append(i.find('span', {'class':'inline-block rating-imdb-rating'})['data-value'])\n",
    "    \n",
    "    #Year.append(i.find('span',{'class': 'lister-item-year text-muted unbold'}).text[1:5])\n",
    "    #Year.append(i.find('span',{'class': 'lister-item-year text-muted unbold'}).text[1:5]\n",
    "                \n",
    "                    \n",
    "    \n",
    "    #Year.append(i.first_movie.find ('span', {'class':'lister-item-year text-muted unbold'}).text[1:5])\n",
    "    #IMDB.append(i.first_movie.find ('span', {'class':'ipl-rating-star__rating'}).text)\n",
    "#data = list (zip[Name,Year,IMDB])\n",
    "#df=pd.DataFrame(data, columns=['Name', 'Year', 'Rating'])\n",
    "#df.head\n"
   ]
  },
  {
   "cell_type": "code",
   "execution_count": null,
   "metadata": {},
   "outputs": [],
   "source": []
  },
  {
   "cell_type": "code",
   "execution_count": null,
   "metadata": {},
   "outputs": [],
   "source": []
  },
  {
   "cell_type": "code",
   "execution_count": null,
   "metadata": {},
   "outputs": [],
   "source": []
  },
  {
   "cell_type": "code",
   "execution_count": null,
   "metadata": {},
   "outputs": [],
   "source": []
  },
  {
   "cell_type": "code",
   "execution_count": null,
   "metadata": {},
   "outputs": [],
   "source": []
  },
  {
   "cell_type": "code",
   "execution_count": null,
   "metadata": {},
   "outputs": [],
   "source": []
  },
  {
   "cell_type": "code",
   "execution_count": null,
   "metadata": {},
   "outputs": [],
   "source": []
  },
  {
   "cell_type": "code",
   "execution_count": null,
   "metadata": {},
   "outputs": [],
   "source": []
  },
  {
   "cell_type": "code",
   "execution_count": null,
   "metadata": {},
   "outputs": [],
   "source": []
  }
 ],
 "metadata": {
  "kernelspec": {
   "display_name": "Python 3",
   "language": "python",
   "name": "python3"
  },
  "language_info": {
   "codemirror_mode": {
    "name": "ipython",
    "version": 3
   },
   "file_extension": ".py",
   "mimetype": "text/x-python",
   "name": "python",
   "nbconvert_exporter": "python",
   "pygments_lexer": "ipython3",
   "version": "3.8.5"
  }
 },
 "nbformat": 4,
 "nbformat_minor": 4
}
