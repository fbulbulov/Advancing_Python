{
 "cells": [
  {
   "cell_type": "markdown",
   "metadata": {},
   "source": [
    "**Web Scraping and Data Analysis** \n",
    "\n",
    "IMDB TOP Action Movies "
   ]
  },
  {
   "cell_type": "markdown",
   "metadata": {},
   "source": [
    "Importing the necessary libraries:"
   ]
  },
  {
   "cell_type": "code",
   "execution_count": 264,
   "metadata": {},
   "outputs": [],
   "source": [
    "import pandas as pd\n",
    "import numpy as np\n",
    "import requests\n",
    "from bs4 import BeautifulSoup as soup"
   ]
  },
  {
   "cell_type": "code",
   "execution_count": 1,
   "metadata": {},
   "outputs": [],
   "source": [
    "from requests import get"
   ]
  },
  {
   "cell_type": "code",
   "execution_count": 58,
   "metadata": {},
   "outputs": [],
   "source": [
    "url = get(\"https://www.imdb.com/search/title/?genres=action&sort=user_rating,desc&title_type=feature&num_votes=25000,&pf_rd_m=A2FGELUUNOQJNL&pf_rd_p=5aab685f-35eb-40f3-95f7-c53f09d542c3&pf_rd_r=BG1CG1TDYDB4FQYYS55B&pf_rd_s=right-6&pf_rd_t=15506&pf_rd_i=top&ref_=chttp_gnr_1%22)%20request%20=%20url.text\")"
   ]
  },
  {
   "cell_type": "code",
   "execution_count": 62,
   "metadata": {},
   "outputs": [],
   "source": [
    "request = url.text"
   ]
  },
  {
   "cell_type": "code",
   "execution_count": 63,
   "metadata": {},
   "outputs": [],
   "source": [
    "raw_data = soup(request, 'html.parser')"
   ]
  },
  {
   "cell_type": "code",
   "execution_count": 135,
   "metadata": {
    "scrolled": false
   },
   "outputs": [
    {
     "data": {
      "text/plain": [
       "'The Dark Knight'"
      ]
     },
     "execution_count": 135,
     "metadata": {},
     "output_type": "execute_result"
    }
   ],
   "source": [
    "movies = raw_data.find_all('div', {'class': 'lister-item mode-advanced'})\n",
    "\n",
    "first_movie = movies[0]\n",
    "first_movie.h3.a.text # Name of the movie"
   ]
  },
  {
   "cell_type": "code",
   "execution_count": 290,
   "metadata": {},
   "outputs": [
    {
     "data": {
      "text/plain": [
       "2008"
      ]
     },
     "execution_count": 290,
     "metadata": {},
     "output_type": "execute_result"
    }
   ],
   "source": [
    "int(first_movie.find('span',{'class': 'lister-item-year text-muted unbold'}).text[1:5]) # Release date"
   ]
  },
  {
   "cell_type": "code",
   "execution_count": 262,
   "metadata": {},
   "outputs": [
    {
     "data": {
      "text/plain": [
       "9.0"
      ]
     },
     "execution_count": 262,
     "metadata": {},
     "output_type": "execute_result"
    }
   ],
   "source": [
    "float(first_movie.find('div', { 'class': 'inline-block ratings-imdb-rating'})['data-value']) # Rating IMDB"
   ]
  },
  {
   "cell_type": "code",
   "execution_count": 263,
   "metadata": {},
   "outputs": [
    {
     "data": {
      "text/plain": [
       "84"
      ]
     },
     "execution_count": 263,
     "metadata": {},
     "output_type": "execute_result"
    }
   ],
   "source": [
    "int(first_movie.find('div', {'class':'inline-block ratings-metascore'}).text[1:5]) # Metascore"
   ]
  },
  {
   "cell_type": "code",
   "execution_count": 173,
   "metadata": {},
   "outputs": [
    {
     "data": {
      "text/plain": [
       "2329259"
      ]
     },
     "execution_count": 173,
     "metadata": {},
     "output_type": "execute_result"
    }
   ],
   "source": [
    "int(first_movie.find('span', {'name': 'nv'})['data-value'])# Votes"
   ]
  },
  {
   "cell_type": "code",
   "execution_count": 201,
   "metadata": {},
   "outputs": [
    {
     "data": {
      "text/plain": [
       "152"
      ]
     },
     "execution_count": 201,
     "metadata": {},
     "output_type": "execute_result"
    }
   ],
   "source": [
    "int(first_movie.find('span', {'class':'runtime'}).text[:4]) #Duration"
   ]
  },
  {
   "cell_type": "code",
   "execution_count": 222,
   "metadata": {},
   "outputs": [
    {
     "data": {
      "text/plain": [
       "['Action', 'Crime', 'Drama']"
      ]
     },
     "execution_count": 222,
     "metadata": {},
     "output_type": "execute_result"
    }
   ],
   "source": [
    "(first_movie.find('span', {'class':'genre'}).text[1:].replace(' ', '')).split(\",\") #genre"
   ]
  },
  {
   "cell_type": "code",
   "execution_count": 232,
   "metadata": {},
   "outputs": [
    {
     "data": {
      "text/plain": [
       "534.86"
      ]
     },
     "execution_count": 232,
     "metadata": {},
     "output_type": "execute_result"
    }
   ],
   "source": [
    "float(first_movie.find_all('span', attrs = {'name':'nv'})[1].text[1:-1]) #gross"
   ]
  },
  {
   "cell_type": "code",
   "execution_count": 235,
   "metadata": {},
   "outputs": [],
   "source": [
    "first_movie.find('p', {'class': 'href'})"
   ]
  },
  {
   "cell_type": "code",
   "execution_count": 248,
   "metadata": {},
   "outputs": [
    {
     "data": {
      "text/plain": [
       "'Christopher Nolan'"
      ]
     },
     "execution_count": 248,
     "metadata": {},
     "output_type": "execute_result"
    }
   ],
   "source": [
    "first_movie.find('p',class_='').find_all('a')[0].text # Director"
   ]
  },
  {
   "cell_type": "code",
   "execution_count": 280,
   "metadata": {},
   "outputs": [
    {
     "data": {
      "text/plain": [
       "'Christian Bale'"
      ]
     },
     "execution_count": 280,
     "metadata": {},
     "output_type": "execute_result"
    }
   ],
   "source": [
    "first_movie.find('p',class_='').find_all('a')[1].text"
   ]
  },
  {
   "cell_type": "code",
   "execution_count": 285,
   "metadata": {},
   "outputs": [
    {
     "data": {
      "text/plain": [
       "['2008',\n",
       " '2003',\n",
       " '2016',\n",
       " '2010',\n",
       " '2001',\n",
       " '2002',\n",
       " '1999',\n",
       " '1980',\n",
       " '1977',\n",
       " '1962',\n",
       " '1954',\n",
       " '2018',\n",
       " '2000',\n",
       " '1994',\n",
       " '1991',\n",
       " '2017',\n",
       " '2016',\n",
       " '2018',\n",
       " '2019',\n",
       " '2018',\n",
       " '2012',\n",
       " '2003',\n",
       " '1997',\n",
       " '1981',\n",
       " '2021',\n",
       " '1986',\n",
       " '1983',\n",
       " '2018',\n",
       " '2018',\n",
       " '2017',\n",
       " '2013',\n",
       " '2012',\n",
       " '2012',\n",
       " '2011',\n",
       " '2005',\n",
       " '2005',\n",
       " '2000',\n",
       " '1998',\n",
       " '1994',\n",
       " '1989',\n",
       " '1988',\n",
       " '1985',\n",
       " '1975',\n",
       " '1961',\n",
       " '1924',\n",
       " '2014',\n",
       " '2017',\n",
       " '2014',\n",
       " 'I) (',\n",
       " '2019']"
      ]
     },
     "execution_count": 285,
     "metadata": {},
     "output_type": "execute_result"
    }
   ],
   "source": [
    "Title = []\n",
    "Year = []\n",
    "Rating = []\n",
    "Metascore = []\n",
    "Duration = []\n",
    "Genre = []\n",
    "Gross = []\n",
    "Director = []\n",
    "Star = []\n",
    "\n",
    "\n",
    "\n",
    "\n",
    "\n",
    "for i in movies:\n",
    "    Name.append(i.h3.a.text)\n",
    "    Year.append(i.find ('span', {'class':'lister-item-year text-muted unbold'}).text[1:5])\n",
    "    \n",
    "\n",
    "    \n",
    "Year\n",
    "    \n",
    " \n",
    "    #Rating.append(i.find('span', {'class':'inline-block rating-imdb-rating'})['data-value'])\n",
    "    \n",
    "    #Year.append(i.find('span',{'class': 'lister-item-year text-muted unbold'}).text[1:5])\n",
    "    #Year.append(i.find('span',{'class': 'lister-item-year text-muted unbold'}).text[1:5]\n",
    "                \n",
    "                    \n",
    "    \n",
    "    #Year.append(i.first_movie.find ('span', {'class':'lister-item-year text-muted unbold'}).text[1:5])\n",
    "    #IMDB.append(i.first_movie.find ('span', {'class':'ipl-rating-star__rating'}).text)\n",
    "#data = list (zip[Name,Year,IMDB])\n",
    "#df=pd.DataFrame(data, columns=['Name', 'Year', 'Rating'])\n",
    "#df.head\n"
   ]
  },
  {
   "cell_type": "code",
   "execution_count": null,
   "metadata": {},
   "outputs": [],
   "source": []
  },
  {
   "cell_type": "code",
   "execution_count": null,
   "metadata": {},
   "outputs": [],
   "source": []
  },
  {
   "cell_type": "code",
   "execution_count": null,
   "metadata": {},
   "outputs": [],
   "source": []
  },
  {
   "cell_type": "code",
   "execution_count": null,
   "metadata": {},
   "outputs": [],
   "source": []
  },
  {
   "cell_type": "code",
   "execution_count": null,
   "metadata": {},
   "outputs": [],
   "source": []
  },
  {
   "cell_type": "code",
   "execution_count": null,
   "metadata": {},
   "outputs": [],
   "source": []
  },
  {
   "cell_type": "code",
   "execution_count": null,
   "metadata": {},
   "outputs": [],
   "source": []
  },
  {
   "cell_type": "code",
   "execution_count": null,
   "metadata": {},
   "outputs": [],
   "source": []
  },
  {
   "cell_type": "code",
   "execution_count": null,
   "metadata": {},
   "outputs": [],
   "source": []
  }
 ],
 "metadata": {
  "kernelspec": {
   "display_name": "Python 3",
   "language": "python",
   "name": "python3"
  },
  "language_info": {
   "codemirror_mode": {
    "name": "ipython",
    "version": 3
   },
   "file_extension": ".py",
   "mimetype": "text/x-python",
   "name": "python",
   "nbconvert_exporter": "python",
   "pygments_lexer": "ipython3",
   "version": "3.8.5"
  }
 },
 "nbformat": 4,
 "nbformat_minor": 4
}
