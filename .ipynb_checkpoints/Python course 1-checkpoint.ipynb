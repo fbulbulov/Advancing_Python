{
 "cells": [
  {
   "cell_type": "markdown",
   "metadata": {},
   "source": [
    "**Age calculator:**"
   ]
  },
  {
   "cell_type": "code",
   "execution_count": 2,
   "metadata": {},
   "outputs": [
    {
     "name": "stdout",
     "output_type": "stream",
     "text": [
      "Birth year: 1989\n",
      "32\n"
     ]
    }
   ],
   "source": [
    "birth_year = input('Birth year: ')\n",
    "age = 2021  - int(birth_year)\n",
    "print (age)"
   ]
  },
  {
   "cell_type": "markdown",
   "metadata": {},
   "source": [
    "**Weight converter (lbs to kg):**"
   ]
  },
  {
   "cell_type": "code",
   "execution_count": 10,
   "metadata": {},
   "outputs": [
    {
     "name": "stdout",
     "output_type": "stream",
     "text": [
      "Your weight(lbs): 100\n",
      "45.35 kg\n"
     ]
    }
   ],
   "source": [
    "weight_p= input('Your weight(lbs): ',)\n",
    "weight_kg = int(weight_p)/2.205\n",
    "print (round(weight_kg,2), 'kg')"
   ]
  },
  {
   "cell_type": "markdown",
   "metadata": {},
   "source": [
    "**Formatted strings**"
   ]
  },
  {
   "cell_type": "code",
   "execution_count": 11,
   "metadata": {},
   "outputs": [
    {
     "name": "stdout",
     "output_type": "stream",
     "text": [
      "John [Smith] is a coder\n",
      "John [Smith] is a coder\n"
     ]
    }
   ],
   "source": [
    "first = 'John'\n",
    "last = 'Smith'\n",
    "message = first + ' ['+ last + '] is a coder'\n",
    "msg = f'{first} [{last}] is a coder' # Formatted strings\n",
    "print (message)\n",
    "print (msg)"
   ]
  },
  {
   "cell_type": "markdown",
   "metadata": {},
   "source": [
    "**String methods**"
   ]
  },
  {
   "cell_type": "code",
   "execution_count": 12,
   "metadata": {},
   "outputs": [
    {
     "name": "stdout",
     "output_type": "stream",
     "text": [
      "24\n",
      "PYTHON FOR PROFESSIONALS\n",
      "Python for Professionals\n",
      "python for professionals\n",
      "4\n",
      "Python for experts\n",
      "True\n"
     ]
    }
   ],
   "source": [
    "course = 'Python for Professionals'\n",
    "print (len(course))\n",
    "print (course.upper())\n",
    "print (course)\n",
    "print (course.lower())\n",
    "print (course.find('o'))\n",
    "print (course.replace('Professionals', 'experts'))\n",
    "print ('Python' in course)"
   ]
  },
  {
   "cell_type": "markdown",
   "metadata": {},
   "source": [
    "**Arithmetic operations**"
   ]
  },
  {
   "cell_type": "code",
   "execution_count": 14,
   "metadata": {},
   "outputs": [
    {
     "name": "stdout",
     "output_type": "stream",
     "text": [
      "3\n",
      "1\n",
      "1000\n",
      "7\n"
     ]
    }
   ],
   "source": [
    "print (10 // 3) # integer\n",
    "print (10 % 3 ) # remainder\n",
    "print (10 ** 3) # exponent\n",
    "\n",
    "x = 10\n",
    "x -= 3\n",
    "print (x)\n"
   ]
  },
  {
   "cell_type": "markdown",
   "metadata": {},
   "source": [
    "**Operator precedence**"
   ]
  },
  {
   "cell_type": "code",
   "execution_count": 16,
   "metadata": {},
   "outputs": [
    {
     "name": "stdout",
     "output_type": "stream",
     "text": [
      "22\n",
      "52\n"
     ]
    }
   ],
   "source": [
    "x = 10 + 3 * 2 ** 2 # 1)exponentiation, 2)* or / , 3) + or -\n",
    "y = (10 + 3) * 2 ** 2 # 1. parenthesis\n",
    "print (x)\n",
    "print (y)"
   ]
  },
  {
   "cell_type": "markdown",
   "metadata": {},
   "source": [
    "**Math operations**"
   ]
  },
  {
   "cell_type": "code",
   "execution_count": 22,
   "metadata": {},
   "outputs": [
    {
     "name": "stdout",
     "output_type": "stream",
     "text": [
      "3\n",
      "1\n",
      "2.9\n",
      "3\n",
      "2\n"
     ]
    }
   ],
   "source": [
    "import math # math methods\n",
    "x = 2.9\n",
    "print (round(x))\n",
    "\n",
    "y = -1\n",
    "print (abs(y)) # absolute value\n",
    "import math\n",
    "\n",
    "print (2.9)\n",
    "print (math.ceil(2.9))\n",
    "print (math.floor(2.9))"
   ]
  },
  {
   "cell_type": "markdown",
   "metadata": {},
   "source": [
    "**If statements**"
   ]
  },
  {
   "cell_type": "code",
   "execution_count": 33,
   "metadata": {},
   "outputs": [
    {
     "name": "stdout",
     "output_type": "stream",
     "text": [
      "It's a cold day\n",
      "Wear warm clothes\n",
      "Enjoy your day\n"
     ]
    }
   ],
   "source": [
    "is_hot = False\n",
    "is_cold = True\n",
    "if is_hot:\n",
    "    print (\"It'a hot day\")\n",
    "    print (\"Dring plenty of water\")\n",
    "elif is_cold:\n",
    "    print (\"It's a cold day\")\n",
    "    print (\"Wear warm clothes\")\n",
    "else:\n",
    "    print (\"It's a lovely day\")\n",
    "\n",
    "print ('Enjoy your day')"
   ]
  },
  {
   "cell_type": "code",
   "execution_count": 46,
   "metadata": {},
   "outputs": [
    {
     "name": "stdout",
     "output_type": "stream",
     "text": [
      "Down payment= 100000.0 $\n"
     ]
    }
   ],
   "source": [
    "buyer_credit = True\n",
    "price = 1000000 \n",
    "\n",
    "if buyer_credit:\n",
    "    down_payment=int(price)*0.1\n",
    "else:\n",
    "    down_payment=int(price)*0.2\n",
    "print(f\"Down payment= {down_payment} $\")\n"
   ]
  },
  {
   "cell_type": "markdown",
   "metadata": {},
   "source": [
    "**Logical operator**"
   ]
  },
  {
   "cell_type": "code",
   "execution_count": 52,
   "metadata": {},
   "outputs": [
    {
     "name": "stdout",
     "output_type": "stream",
     "text": [
      "Eligible for loan\n"
     ]
    }
   ],
   "source": [
    "has_high_income = True\n",
    "has_good_credit = True\n",
    "if has_high_income and has_good_credit:\n",
    "    print (\"Eligible for loan\")"
   ]
  },
  {
   "cell_type": "code",
   "execution_count": 61,
   "metadata": {},
   "outputs": [
    {
     "name": "stdout",
     "output_type": "stream",
     "text": [
      "Not eligible for loan\n"
     ]
    }
   ],
   "source": [
    "has_criminal_record = True\n",
    "has_good_credit = True\n",
    "\n",
    "if has_good_credit and not has_criminal_record:\n",
    "    print (\"Eligible for loan\")\n",
    "else:\n",
    "    print (\"Not eligible for loan\")"
   ]
  },
  {
   "cell_type": "markdown",
   "metadata": {},
   "source": [
    "**Comparison Operators**"
   ]
  },
  {
   "cell_type": "code",
   "execution_count": 66,
   "metadata": {},
   "outputs": [
    {
     "name": "stdout",
     "output_type": "stream",
     "text": [
      "It's a hot day\n"
     ]
    }
   ],
   "source": [
    "temperature = 30\n",
    "\n",
    "if temperature >= 30:\n",
    "    print (\"It's a hot day\")\n",
    "else:\n",
    "    print (\"It's not a hot day\")"
   ]
  },
  {
   "cell_type": "code",
   "execution_count": 70,
   "metadata": {},
   "outputs": [
    {
     "name": "stdout",
     "output_type": "stream",
     "text": [
      "Your Name: dkafjakjfadskfjalkfj\n",
      "Name can be maximum of 10 characters\n"
     ]
    }
   ],
   "source": [
    "name = input (\"Your Name: \")\n",
    "if len(name) < 3:\n",
    "    print (\"Your name must be at least 3 characters\")\n",
    "elif len(name) > 10:\n",
    "    print (\"Name can be maximum of 10 characters\")\n",
    "else:\n",
    "    print (\"You have a great name!\")"
   ]
  },
  {
   "cell_type": "markdown",
   "metadata": {},
   "source": [
    "**While Loops**"
   ]
  },
  {
   "cell_type": "code",
   "execution_count": 77,
   "metadata": {},
   "outputs": [
    {
     "name": "stdout",
     "output_type": "stream",
     "text": [
      "*\n",
      "**\n",
      "***\n",
      "****\n",
      "*****\n",
      "Done!\n"
     ]
    }
   ],
   "source": [
    "i = 1\n",
    "while i <= 5:\n",
    "    print ('*' * i)\n",
    "    i += 1\n",
    "print (\"Done!\")"
   ]
  },
  {
   "cell_type": "markdown",
   "metadata": {},
   "source": [
    "**For Loops**"
   ]
  },
  {
   "cell_type": "code",
   "execution_count": 79,
   "metadata": {},
   "outputs": [
    {
     "name": "stdout",
     "output_type": "stream",
     "text": [
      "Mosh\n",
      "Farrukh\n",
      "Sarah\n"
     ]
    }
   ],
   "source": [
    "for item in ['Mosh', 'Farrukh', 'Sarah']:\n",
    "    print (item)  "
   ]
  },
  {
   "cell_type": "code",
   "execution_count": 89,
   "metadata": {},
   "outputs": [
    {
     "name": "stdout",
     "output_type": "stream",
     "text": [
      "0\n",
      "1\n",
      "2\n",
      "3\n",
      "4\n",
      "5\n",
      "6\n",
      "7\n",
      "8\n",
      "9\n"
     ]
    }
   ],
   "source": [
    "for item in range(10):\n",
    "    print (item)"
   ]
  },
  {
   "cell_type": "code",
   "execution_count": 90,
   "metadata": {},
   "outputs": [
    {
     "name": "stdout",
     "output_type": "stream",
     "text": [
      "5\n",
      "7\n",
      "9\n"
     ]
    }
   ],
   "source": [
    "for item in range(5,10,2):\n",
    "    print (item)"
   ]
  },
  {
   "cell_type": "code",
   "execution_count": 91,
   "metadata": {},
   "outputs": [
    {
     "name": "stdout",
     "output_type": "stream",
     "text": [
      "100\n",
      "200\n",
      "300\n"
     ]
    }
   ],
   "source": [
    "prices= [10,20,30]\n",
    "for item in prices:\n",
    "    a = item * 300\n",
    "    print (a)"
   ]
  },
  {
   "cell_type": "code",
   "execution_count": 99,
   "metadata": {},
   "outputs": [
    {
     "name": "stdout",
     "output_type": "stream",
     "text": [
      "Total: 150$\n"
     ]
    }
   ],
   "source": [
    "prices= [10,20,30,90]\n",
    "total=0\n",
    "for price in prices:\n",
    "    total += price\n",
    "print(f\"Total: {total}$\")"
   ]
  },
  {
   "cell_type": "markdown",
   "metadata": {},
   "source": [
    "**Nested Loops**"
   ]
  },
  {
   "cell_type": "code",
   "execution_count": 101,
   "metadata": {},
   "outputs": [
    {
     "name": "stdout",
     "output_type": "stream",
     "text": [
      "0, 0\n",
      "0, 1\n",
      "0, 2\n",
      "1, 0\n",
      "1, 1\n",
      "1, 2\n",
      "2, 0\n",
      "2, 1\n",
      "2, 2\n",
      "3, 0\n",
      "3, 1\n",
      "3, 2\n"
     ]
    }
   ],
   "source": [
    "for x in range(4):\n",
    "    for y in range (3):\n",
    "        print (f'{x}, {y}')"
   ]
  },
  {
   "cell_type": "markdown",
   "metadata": {},
   "source": [
    "**Lists**     "
   ]
  },
  {
   "cell_type": "code",
   "execution_count": 106,
   "metadata": {},
   "outputs": [
    {
     "name": "stdout",
     "output_type": "stream",
     "text": [
      "Sarah\n"
     ]
    }
   ],
   "source": [
    "name = ['John', 'Bob', 'Farrukh', 'Sarah', 'Marina']\n",
    "print (name[-2])"
   ]
  },
  {
   "cell_type": "code",
   "execution_count": 110,
   "metadata": {},
   "outputs": [
    {
     "name": "stdout",
     "output_type": "stream",
     "text": [
      "['Jack', 'Bob', 'Farrukh', 'Sarah', 'Marina']\n"
     ]
    }
   ],
   "source": [
    "name = ['John', 'Bob', 'Farrukh', 'Sarah', 'Marina']\n",
    "name [0] = 'Jack'\n",
    "print (name)"
   ]
  },
  {
   "cell_type": "code",
   "execution_count": 111,
   "metadata": {},
   "outputs": [
    {
     "name": "stdout",
     "output_type": "stream",
     "text": [
      "10\n"
     ]
    }
   ],
   "source": [
    "numbers = [3, 5,7, 10, 8, 2, 1, 9]\n",
    "max = numbers [0]\n",
    "for number in numbers:\n",
    "    if number > max:\n",
    "        max=number\n",
    "print (max)"
   ]
  },
  {
   "cell_type": "markdown",
   "metadata": {},
   "source": [
    "**2D Lists**"
   ]
  },
  {
   "cell_type": "code",
   "execution_count": 119,
   "metadata": {},
   "outputs": [
    {
     "name": "stdout",
     "output_type": "stream",
     "text": [
      "[[1, 2, 3], [4, 5, 6], [7, 8, 9]]\n",
      "2\n"
     ]
    }
   ],
   "source": [
    "matrix = [\n",
    "    [1, 2, 3],\n",
    "    [4, 5, 6],\n",
    "    [7, 8, 9]\n",
    "]\n",
    "\n",
    "print (matrix)\n",
    "print (matrix [0][1])"
   ]
  },
  {
   "cell_type": "code",
   "execution_count": 118,
   "metadata": {},
   "outputs": [
    {
     "name": "stdout",
     "output_type": "stream",
     "text": [
      "[[1, 20, 3], [4, 5, 6], [7, 8, 9]]\n"
     ]
    }
   ],
   "source": [
    "matrix = [\n",
    "    [1, 2, 3],\n",
    "    [4, 5, 6],\n",
    "    [7, 8, 9]\n",
    "]\n",
    "\n",
    "matrix [0][1]=20\n",
    "print (matrix)"
   ]
  },
  {
   "cell_type": "code",
   "execution_count": 120,
   "metadata": {},
   "outputs": [
    {
     "name": "stdout",
     "output_type": "stream",
     "text": [
      "1\n",
      "2\n",
      "3\n",
      "4\n",
      "5\n",
      "6\n",
      "7\n",
      "8\n",
      "9\n"
     ]
    }
   ],
   "source": [
    "matrix = [\n",
    "    [1, 2, 3],\n",
    "    [4, 5, 6],\n",
    "    [7, 8, 9]\n",
    "]\n",
    "\n",
    "for row in matrix:\n",
    "    for item in row:\n",
    "        print (item)"
   ]
  },
  {
   "cell_type": "markdown",
   "metadata": {},
   "source": [
    "**List Methods**"
   ]
  },
  {
   "cell_type": "code",
   "execution_count": 123,
   "metadata": {},
   "outputs": [
    {
     "name": "stdout",
     "output_type": "stream",
     "text": [
      "[5, 2, 1, 7, 4, 12]\n"
     ]
    }
   ],
   "source": [
    "numbers = [5, 2, 1, 7, 4]\n",
    "numbers.append(12)\n",
    "print (numbers)"
   ]
  },
  {
   "cell_type": "code",
   "execution_count": 124,
   "metadata": {},
   "outputs": [
    {
     "name": "stdout",
     "output_type": "stream",
     "text": [
      "[10, 5, 2, 1, 7, 4]\n"
     ]
    }
   ],
   "source": [
    "numbers = [5, 2, 1, 7, 4]\n",
    "numbers.insert(0, 10)\n",
    "print (numbers)"
   ]
  },
  {
   "cell_type": "code",
   "execution_count": 125,
   "metadata": {},
   "outputs": [
    {
     "name": "stdout",
     "output_type": "stream",
     "text": [
      "[2, 1, 7, 4]\n"
     ]
    }
   ],
   "source": [
    "numbers = [5, 2, 1, 7, 4]\n",
    "numbers.remove(5)\n",
    "print (numbers)"
   ]
  },
  {
   "cell_type": "code",
   "execution_count": 126,
   "metadata": {},
   "outputs": [
    {
     "name": "stdout",
     "output_type": "stream",
     "text": [
      "[]\n"
     ]
    }
   ],
   "source": [
    "numbers = [5, 2, 1, 7, 4]\n",
    "numbers.clear()\n",
    "print (numbers)"
   ]
  },
  {
   "cell_type": "code",
   "execution_count": 127,
   "metadata": {},
   "outputs": [
    {
     "name": "stdout",
     "output_type": "stream",
     "text": [
      "[5, 2, 1, 7]\n"
     ]
    }
   ],
   "source": [
    "numbers = [5, 2, 1, 7, 4]\n",
    "numbers.pop()\n",
    "print (numbers)"
   ]
  },
  {
   "cell_type": "code",
   "execution_count": 128,
   "metadata": {},
   "outputs": [
    {
     "name": "stdout",
     "output_type": "stream",
     "text": [
      "3\n"
     ]
    }
   ],
   "source": [
    "numbers = [5, 2, 1, 7, 4]\n",
    "print (numbers.index(7))"
   ]
  },
  {
   "cell_type": "code",
   "execution_count": 129,
   "metadata": {},
   "outputs": [
    {
     "name": "stdout",
     "output_type": "stream",
     "text": [
      "False\n"
     ]
    }
   ],
   "source": [
    "numbers = [5, 2, 1, 7, 4]\n",
    "print (40 in numbers)"
   ]
  },
  {
   "cell_type": "code",
   "execution_count": 131,
   "metadata": {},
   "outputs": [
    {
     "name": "stdout",
     "output_type": "stream",
     "text": [
      "2\n"
     ]
    }
   ],
   "source": [
    "numbers = [5, 2, 1, 5, 7, 4]\n",
    "print (numbers.count(5))"
   ]
  },
  {
   "cell_type": "code",
   "execution_count": 135,
   "metadata": {},
   "outputs": [
    {
     "name": "stdout",
     "output_type": "stream",
     "text": [
      "[1, 2, 4, 5, 5, 7]\n"
     ]
    }
   ],
   "source": [
    "numbers = [5, 2, 1, 5, 7, 4]\n",
    "numbers.sort() # as it affects the list, do not put it in print\n",
    "print (numbers)"
   ]
  },
  {
   "cell_type": "code",
   "execution_count": 139,
   "metadata": {},
   "outputs": [
    {
     "name": "stdout",
     "output_type": "stream",
     "text": [
      "[7, 5, 5, 4, 2, 1]\n"
     ]
    }
   ],
   "source": [
    "numbers = [5, 2, 1, 5, 7, 4]\n",
    "numbers.sort() # first to sort it\n",
    "numbers.reverse() # only then to reverse sorting it\n",
    "print (numbers)"
   ]
  },
  {
   "cell_type": "code",
   "execution_count": 141,
   "metadata": {},
   "outputs": [
    {
     "name": "stdout",
     "output_type": "stream",
     "text": [
      "[5, 2, 1, 5, 7, 4, 10]\n",
      "[5, 2, 1, 5, 7, 4]\n"
     ]
    }
   ],
   "source": [
    "numbers = [5, 2, 1, 5, 7, 4]\n",
    "copy_numbers= numbers.copy()\n",
    "numbers.append(10)\n",
    "\n",
    "print (numbers)\n",
    "print (copy_numbers)"
   ]
  },
  {
   "cell_type": "code",
   "execution_count": 149,
   "metadata": {},
   "outputs": [
    {
     "name": "stdout",
     "output_type": "stream",
     "text": [
      "[1, 2, 4, 5, 7, 10]\n"
     ]
    }
   ],
   "source": [
    "numbers = [5, 2, 1, 5, 7, 4,5, 1, 4, 2, 10, ]\n",
    "uniques =  []\n",
    "for number in numbers:\n",
    "    if number not in uniques:\n",
    "        uniques.append(number)\n",
    "uniques.sort() #sorting        \n",
    "print (uniques)"
   ]
  },
  {
   "cell_type": "markdown",
   "metadata": {},
   "source": [
    "**Tuples**"
   ]
  },
  {
   "cell_type": "code",
   "execution_count": null,
   "metadata": {},
   "outputs": [],
   "source": [
    "numbers = (1,2,3) #tuples with ( and ), cant modify them"
   ]
  },
  {
   "cell_type": "markdown",
   "metadata": {},
   "source": [
    "**Unpacking**"
   ]
  },
  {
   "cell_type": "code",
   "execution_count": 152,
   "metadata": {},
   "outputs": [
    {
     "name": "stdout",
     "output_type": "stream",
     "text": [
      "1 2 3\n"
     ]
    }
   ],
   "source": [
    "#usual method\n",
    "coordinates = (1,2,3)\n",
    "x = coordinates [0]\n",
    "y = coordinates [1]\n",
    "z = coordinates [2]\n",
    "\n",
    "print (x,y,z)"
   ]
  },
  {
   "cell_type": "code",
   "execution_count": 153,
   "metadata": {},
   "outputs": [
    {
     "name": "stdout",
     "output_type": "stream",
     "text": [
      "1 2 3\n"
     ]
    }
   ],
   "source": [
    "#Unpacking method. It works both for tuples and lists as well\n",
    "coordinates = (1,2,3)\n",
    "x,y,z = coordinates\n",
    "print(x,y,z)"
   ]
  },
  {
   "cell_type": "markdown",
   "metadata": {},
   "source": [
    "**Dictionaries**"
   ]
  },
  {
   "cell_type": "code",
   "execution_count": 156,
   "metadata": {},
   "outputs": [
    {
     "name": "stdout",
     "output_type": "stream",
     "text": [
      "John Smith\n",
      "None\n"
     ]
    }
   ],
   "source": [
    "customer = {\n",
    "    \"name\": \"John Smith\",\n",
    "    \"age\": 30,\n",
    "    \"is_verified\": True\n",
    "}\n",
    "print (customer[\"name\"])\n",
    "print (customer.get(\"Name\"))"
   ]
  },
  {
   "cell_type": "code",
   "execution_count": 161,
   "metadata": {},
   "outputs": [
    {
     "name": "stdout",
     "output_type": "stream",
     "text": [
      "Jack Jones\n",
      "Jan 1, 1989\n",
      "{'name': 'Jack Jones', 'age': 30, 'is_verified': True, 'birth date': 'Jan 1, 1989'}\n"
     ]
    }
   ],
   "source": [
    "customer = {\n",
    "    \"name\": \"John Smith\",\n",
    "    \"age\": 30,\n",
    "    \"is_verified\": True\n",
    "}\n",
    "customer [\"name\"] = \"Jack Jones\" #changing dictionaries by the keyword\n",
    "customer [\"birth date\"] = \"Jan 1, 1989\" #adding new key value\n",
    "print (customer.get(\"name\"))\n",
    "print (customer.get(\"birth date\"))\n",
    "print (customer)"
   ]
  },
  {
   "cell_type": "code",
   "execution_count": 173,
   "metadata": {},
   "outputs": [
    {
     "name": "stdout",
     "output_type": "stream",
     "text": [
      "Phone: 123\n",
      "one two three \n"
     ]
    }
   ],
   "source": [
    "phone= input(\"Phone: \")\n",
    "numbers = {\n",
    "     \"0\" : \"zero\",\n",
    "     \"1\" : \"one\",\n",
    "     \"2\" : \"two\",\n",
    "     \"3\" : \"three\",\n",
    "     \"4\" : \"four\",\n",
    "     \"5\" : \"five\",\n",
    "     \"6\" : \"six\",\n",
    "     \"7\" : \"seven\",\n",
    "     \"8\" : \"eight\",\n",
    "     \"9\" : \"nine\"\n",
    " }\n",
    "output=\"\"\n",
    "for ch in phone:\n",
    "    output += numbers.get(ch,\"!\") + \" \"\n",
    "    \n",
    "print (output)"
   ]
  },
  {
   "cell_type": "markdown",
   "metadata": {},
   "source": [
    "**Emoji converter**"
   ]
  },
  {
   "cell_type": "code",
   "execution_count": 181,
   "metadata": {},
   "outputs": [
    {
     "name": "stdout",
     "output_type": "stream",
     "text": [
      ">:(\n",
      "🙁 \n"
     ]
    }
   ],
   "source": [
    "message=input(\">\")\n",
    "words = message.split ('😀')\n",
    "emojis = {\n",
    "    \":)\" : \"😀\",\n",
    "    \":(\" : \"🙁\",\n",
    "    \"<3\" : \"😍\"\n",
    "}\n",
    "output=\"\"\n",
    "for word in words:\n",
    "    output += emojis.get(word, word)+\" \"\n",
    "print (output)\n",
    "    "
   ]
  },
  {
   "cell_type": "code",
   "execution_count": 178,
   "metadata": {},
   "outputs": [
    {
     "name": "stdout",
     "output_type": "stream",
     "text": [
      "😀\n"
     ]
    }
   ],
   "source": [
    "print (\"😀\")"
   ]
  },
  {
   "cell_type": "code",
   "execution_count": null,
   "metadata": {},
   "outputs": [],
   "source": []
  }
 ],
 "metadata": {
  "kernelspec": {
   "display_name": "Python 3",
   "language": "python",
   "name": "python3"
  },
  "language_info": {
   "codemirror_mode": {
    "name": "ipython",
    "version": 3
   },
   "file_extension": ".py",
   "mimetype": "text/x-python",
   "name": "python",
   "nbconvert_exporter": "python",
   "pygments_lexer": "ipython3",
   "version": "3.8.5"
  }
 },
 "nbformat": 4,
 "nbformat_minor": 4
}
