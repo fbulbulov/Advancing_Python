{
 "cells": [
  {
   "cell_type": "markdown",
   "metadata": {},
   "source": [
    "**Car game**"
   ]
  },
  {
   "cell_type": "code",
   "execution_count": null,
   "metadata": {},
   "outputs": [
    {
     "name": "stdout",
     "output_type": "stream",
     "text": [
      ">help\n",
      "\n",
      "start - to start the car\n",
      "stop - to stop the car\n",
      "quit - to exit the game\n"
     ]
    }
   ],
   "source": [
    "command = \"\" \n",
    "start = \"start\"\n",
    "stop = \"stop\"\n",
    "quit = \"quit\"\n",
    "help1 = \"help\"\n",
    "started= False\n",
    "\n",
    "while True:\n",
    "    command = input (\">\").lower()\n",
    "    if command==start:\n",
    "        if started:\n",
    "            print (\"Car is already started!\")\n",
    "        else:\n",
    "            started = True\n",
    "            print (\"Car started...\")\n",
    "    elif command == stop:\n",
    "        if not started:\n",
    "            print (\"Car is already stopped!\")\n",
    "        else:\n",
    "            started = False\n",
    "            print (\"Car stopped.\")\n",
    "    elif command == help1:\n",
    "        print (\"\"\"\n",
    "start - to start the car\n",
    "stop - to stop the car\n",
    "quit - to exit the game\"\"\")\n",
    "    elif command == quit:\n",
    "        break\n",
    "    else:\n",
    "        print ('I dont understand that...')"
   ]
  }
 ],
 "metadata": {
  "kernelspec": {
   "display_name": "Python 3",
   "language": "python",
   "name": "python3"
  },
  "language_info": {
   "codemirror_mode": {
    "name": "ipython",
    "version": 3
   },
   "file_extension": ".py",
   "mimetype": "text/x-python",
   "name": "python",
   "nbconvert_exporter": "python",
   "pygments_lexer": "ipython3",
   "version": "3.8.5"
  }
 },
 "nbformat": 4,
 "nbformat_minor": 4
}
