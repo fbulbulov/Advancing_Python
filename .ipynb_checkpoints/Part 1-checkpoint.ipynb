{
 "cells": [
  {
   "cell_type": "markdown",
   "metadata": {},
   "source": [
    "**Age calculator:**"
   ]
  },
  {
   "cell_type": "code",
   "execution_count": 2,
   "metadata": {},
   "outputs": [
    {
     "name": "stdout",
     "output_type": "stream",
     "text": [
      "Birth year: 1989\n",
      "32\n"
     ]
    }
   ],
   "source": [
    "birth_year = input('Birth year: ')\n",
    "age = 2021  - int(birth_year)\n",
    "print (age)"
   ]
  },
  {
   "cell_type": "markdown",
   "metadata": {},
   "source": [
    "**Weight converter (lbs to kg):**"
   ]
  },
  {
   "cell_type": "code",
   "execution_count": 10,
   "metadata": {},
   "outputs": [
    {
     "name": "stdout",
     "output_type": "stream",
     "text": [
      "Your weight(lbs): 100\n",
      "45.35 kg\n"
     ]
    }
   ],
   "source": [
    "weight_p= input('Your weight(lbs): ',)\n",
    "weight_kg = int(weight_p)/2.205\n",
    "print (round(weight_kg,2), 'kg')"
   ]
  },
  {
   "cell_type": "markdown",
   "metadata": {},
   "source": [
    "**Formatted strings**"
   ]
  },
  {
   "cell_type": "code",
   "execution_count": 11,
   "metadata": {},
   "outputs": [
    {
     "name": "stdout",
     "output_type": "stream",
     "text": [
      "John [Smith] is a coder\n",
      "John [Smith] is a coder\n"
     ]
    }
   ],
   "source": [
    "first = 'John'\n",
    "last = 'Smith'\n",
    "message = first + ' ['+ last + '] is a coder'\n",
    "msg = f'{first} [{last}] is a coder' # Formatted strings\n",
    "print (message)\n",
    "print (msg)"
   ]
  },
  {
   "cell_type": "markdown",
   "metadata": {},
   "source": [
    "**String methods**"
   ]
  },
  {
   "cell_type": "code",
   "execution_count": 12,
   "metadata": {},
   "outputs": [
    {
     "name": "stdout",
     "output_type": "stream",
     "text": [
      "24\n",
      "PYTHON FOR PROFESSIONALS\n",
      "Python for Professionals\n",
      "python for professionals\n",
      "4\n",
      "Python for experts\n",
      "True\n"
     ]
    }
   ],
   "source": [
    "course = 'Python for Professionals'\n",
    "print (len(course))\n",
    "print (course.upper())\n",
    "print (course)\n",
    "print (course.lower())\n",
    "print (course.find('o'))\n",
    "print (course.replace('Professionals', 'experts'))\n",
    "print ('Python' in course)"
   ]
  },
  {
   "cell_type": "markdown",
   "metadata": {},
   "source": [
    "**Arithmetic operations**"
   ]
  },
  {
   "cell_type": "code",
   "execution_count": 14,
   "metadata": {},
   "outputs": [
    {
     "name": "stdout",
     "output_type": "stream",
     "text": [
      "3\n",
      "1\n",
      "1000\n",
      "7\n"
     ]
    }
   ],
   "source": [
    "print (10 // 3) # integer\n",
    "print (10 % 3 ) # remainder\n",
    "print (10 ** 3) # exponent\n",
    "\n",
    "x = 10\n",
    "x -= 3\n",
    "print (x)\n"
   ]
  },
  {
   "cell_type": "markdown",
   "metadata": {},
   "source": [
    "**Operator precedence**"
   ]
  },
  {
   "cell_type": "code",
   "execution_count": 16,
   "metadata": {},
   "outputs": [
    {
     "name": "stdout",
     "output_type": "stream",
     "text": [
      "22\n",
      "52\n"
     ]
    }
   ],
   "source": [
    "x = 10 + 3 * 2 ** 2 # 1)exponentiation, 2)* or / , 3) + or -\n",
    "y = (10 + 3) * 2 ** 2 # 1. parenthesis\n",
    "print (x)\n",
    "print (y)"
   ]
  },
  {
   "cell_type": "markdown",
   "metadata": {},
   "source": [
    "**Math operations**"
   ]
  },
  {
   "cell_type": "code",
   "execution_count": 22,
   "metadata": {},
   "outputs": [
    {
     "name": "stdout",
     "output_type": "stream",
     "text": [
      "3\n",
      "1\n",
      "2.9\n",
      "3\n",
      "2\n"
     ]
    }
   ],
   "source": [
    "import math # math methods\n",
    "x = 2.9\n",
    "print (round(x))\n",
    "\n",
    "y = -1\n",
    "print (abs(y)) # absolute value\n",
    "import math\n",
    "\n",
    "print (2.9)\n",
    "print (math.ceil(2.9))\n",
    "print (math.floor(2.9))"
   ]
  },
  {
   "cell_type": "code",
   "execution_count": null,
   "metadata": {},
   "outputs": [],
   "source": []
  }
 ],
 "metadata": {
  "kernelspec": {
   "display_name": "Python 3",
   "language": "python",
   "name": "python3"
  },
  "language_info": {
   "codemirror_mode": {
    "name": "ipython",
    "version": 3
   },
   "file_extension": ".py",
   "mimetype": "text/x-python",
   "name": "python",
   "nbconvert_exporter": "python",
   "pygments_lexer": "ipython3",
   "version": "3.8.5"
  }
 },
 "nbformat": 4,
 "nbformat_minor": 4
}
