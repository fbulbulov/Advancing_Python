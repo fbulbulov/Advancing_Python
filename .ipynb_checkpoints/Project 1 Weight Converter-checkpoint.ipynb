{
 "cells": [
  {
   "cell_type": "markdown",
   "metadata": {},
   "source": [
    "**Project 1: Weight Converter**"
   ]
  },
  {
   "cell_type": "code",
   "execution_count": 12,
   "metadata": {},
   "outputs": [
    {
     "name": "stdout",
     "output_type": "stream",
     "text": [
      "Your weight: 200\n",
      "(L)bs or (K)kg: K\n",
      "You are 444.44 pounds\n"
     ]
    }
   ],
   "source": [
    "weight= input (\"Your weight: \")\n",
    "measurement = input (\"(L)bs or (K)kg: \")\n",
    "\n",
    "if measurement.lower() == 'l':\n",
    "    kg = int(weight) * 0.45\n",
    "    print (f\"Your are {kg} kgs\")\n",
    "elif measurement.lower() == 'k':\n",
    "    converter= int(weight) / 0.45\n",
    "    pounds = round(converter,2) \n",
    "    print (f\"You are {pounds} pounds\")\n",
    "else:\n",
    "    print (\"Type only L or K\")\n"
   ]
  }
 ],
 "metadata": {
  "kernelspec": {
   "display_name": "Python 3",
   "language": "python",
   "name": "python3"
  },
  "language_info": {
   "codemirror_mode": {
    "name": "ipython",
    "version": 3
   },
   "file_extension": ".py",
   "mimetype": "text/x-python",
   "name": "python",
   "nbconvert_exporter": "python",
   "pygments_lexer": "ipython3",
   "version": "3.8.5"
  }
 },
 "nbformat": 4,
 "nbformat_minor": 4
}
