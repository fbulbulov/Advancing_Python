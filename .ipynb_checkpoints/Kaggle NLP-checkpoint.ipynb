{
 "cells": [
  {
   "cell_type": "markdown",
   "id": "a5b95898",
   "metadata": {},
   "source": [
    "## Kaggle Natural Language Processing Course"
   ]
  },
  {
   "cell_type": "markdown",
   "id": "6a012d36",
   "metadata": {},
   "source": [
    "In this course about Natural Language Processing (NLP), you will use the leading NLP library (spaCy) to take on some of the most important tasks in working with text.\n",
    "\n",
    "By the end, you will be able to use spaCy for:\n",
    "\n",
    "- Basic text processing and pattern matching\n",
    "- Building machine learning models with text\n",
    "- Representing text with word embeddings that numerically capture the meaning of words and documents"
   ]
  },
  {
   "cell_type": "markdown",
   "id": "03136a32",
   "metadata": {},
   "source": [
    "SpaCy is the leading library for NLP, and it has quickly become one of the most popular Python frameworks. Most people find it intuitive, and it has excellent documentation.\n",
    "\n",
    "spaCy relies on models that are language-specific and come in different sizes. You can load a spaCy model with spacy.load.\n",
    "\n",
    "For example, here's how you would load the English language model."
   ]
  },
  {
   "cell_type": "code",
   "execution_count": 1,
   "id": "e54908e9",
   "metadata": {
    "ExecuteTime": {
     "end_time": "2021-07-20T12:24:26.818082Z",
     "start_time": "2021-07-20T12:24:14.014738Z"
    }
   },
   "outputs": [],
   "source": [
    "import spacy\n",
    "nlp = spacy.load('en_core_web_sm')"
   ]
  },
  {
   "cell_type": "markdown",
   "id": "4d4d0c64",
   "metadata": {},
   "source": [
    "With the model loaded, you can process text like this:"
   ]
  },
  {
   "cell_type": "code",
   "execution_count": 3,
   "id": "621bfc4c",
   "metadata": {
    "ExecuteTime": {
     "end_time": "2021-07-20T12:24:57.348499Z",
     "start_time": "2021-07-20T12:24:57.217575Z"
    }
   },
   "outputs": [
    {
     "name": "stdout",
     "output_type": "stream",
     "text": [
      "Tea is healthy and calming, don't you think?\n"
     ]
    }
   ],
   "source": [
    "doc=nlp(\"Tea is healthy and calming, don't you think?\")\n",
    "print (doc)"
   ]
  },
  {
   "cell_type": "markdown",
   "id": "578f6f5a",
   "metadata": {},
   "source": [
    "**Tokenizing**\n",
    "\n",
    "This returns a document object that contains tokens. A token is a unit of text in the document, such as individual words and punctuation. SpaCy splits contractions like \"don't\" into two tokens, \"do\" and \"n't\". You can see the tokens by iterating through the document."
   ]
  },
  {
   "cell_type": "code",
   "execution_count": 4,
   "id": "c61dffcc",
   "metadata": {
    "ExecuteTime": {
     "end_time": "2021-07-20T12:33:32.932393Z",
     "start_time": "2021-07-20T12:33:32.928395Z"
    }
   },
   "outputs": [
    {
     "name": "stdout",
     "output_type": "stream",
     "text": [
      "Tea\n",
      "is\n",
      "healthy\n",
      "and\n",
      "calming\n",
      ",\n",
      "do\n",
      "n't\n",
      "you\n",
      "think\n",
      "?\n"
     ]
    }
   ],
   "source": [
    "for token in doc:\n",
    "    print (token)"
   ]
  },
  {
   "cell_type": "markdown",
   "id": "cada54d3",
   "metadata": {},
   "source": [
    "Iterating through a document gives you token objects. Each of these tokens comes with additional information. In most cases, the important ones are `token.lemma_` and `token.is_stop`."
   ]
  },
  {
   "cell_type": "markdown",
   "id": "0a88eaf3",
   "metadata": {},
   "source": [
    "**Text preprocessing** \n",
    "\n",
    "There are a few types of preprocessing to improve how we model with words. The first is \"lemmatizing.\" The \"lemma\" of a word is its base form. For example, \"walk\" is the lemma of the word \"walking\". So, when you lemmatize the word walking, you would convert it to walk.\n",
    "\n",
    "It's also common to remove stopwords. Stopwords are words that occur frequently in the language and don't contain much information. English stopwords include <em>\"the\", \"is\", \"and\", \"but\", \"not\".</em>\n",
    "\n",
    "With a spaCy token, `token.lemma_` returns the lemma, while `token.is_stop` returns a boolean `True` if the token is a stopword (and `False` otherwise)."
   ]
  },
  {
   "cell_type": "code",
   "execution_count": 5,
   "id": "9bb79aa4",
   "metadata": {
    "ExecuteTime": {
     "end_time": "2021-07-20T12:38:21.479318Z",
     "start_time": "2021-07-20T12:38:21.470324Z"
    }
   },
   "outputs": [
    {
     "name": "stdout",
     "output_type": "stream",
     "text": [
      "Token \t\tLemma \t\tStopword\n",
      "----------------------------------------\n",
      "Tea\t\ttea\t\tFalse\n",
      "is\t\tbe\t\tTrue\n",
      "healthy\t\thealthy\t\tFalse\n",
      "and\t\tand\t\tTrue\n",
      "calming\t\tcalm\t\tFalse\n",
      ",\t\t,\t\tFalse\n",
      "do\t\tdo\t\tTrue\n",
      "n't\t\tn't\t\tTrue\n",
      "you\t\tyou\t\tTrue\n",
      "think\t\tthink\t\tFalse\n",
      "?\t\t?\t\tFalse\n"
     ]
    }
   ],
   "source": [
    "print(f\"Token \\t\\tLemma \\t\\tStopword\".format('Token', 'Lemma', 'Stopword'))\n",
    "print(\"-\"*40)\n",
    "for token in doc:\n",
    "    print(f\"{str(token)}\\t\\t{token.lemma_}\\t\\t{token.is_stop}\")"
   ]
  },
  {
   "cell_type": "markdown",
   "id": "b3c50ea5",
   "metadata": {
    "ExecuteTime": {
     "end_time": "2021-07-20T12:40:06.232940Z",
     "start_time": "2021-07-20T12:40:06.228942Z"
    }
   },
   "source": [
    "Why are lemmas and identifying stopwords important? Language data has a lot of noise mixed in with informative content. In the sentence above, the important words are tea, healthy and calming. Removing stop words might help the predictive model focus on relevant words. Lemmatizing similarly helps by combining multiple forms of the same word into one base form (\"calming\", \"calms\", \"calmed\" would all change to \"calm\").\n",
    "\n",
    "However, lemmatizing and dropping stopwords might result in your models performing worse. So you should treat this preprocessing as part of your hyperparameter optimization process."
   ]
  },
  {
   "cell_type": "markdown",
   "id": "b55e958f",
   "metadata": {},
   "source": [
    "**Pattern Matching**\n",
    "\n",
    "Another common NLP task is matching tokens or phrases within chunks of text or whole documents. You can do pattern matching with regular expressions, but spaCy's matching capabilities tend to be easier to use.\n",
    "\n",
    "To match individual tokens, you create a Matcher. When you want to match a list of terms, it's easier and more efficient to use `PhraseMatcher`. For example, if you want to find where different smartphone models show up in some text, you can create patterns for the model names of interest. First you create the PhraseMatcher itself."
   ]
  },
  {
   "cell_type": "code",
   "execution_count": 7,
   "id": "48773ec4",
   "metadata": {
    "ExecuteTime": {
     "end_time": "2021-07-20T12:45:12.374581Z",
     "start_time": "2021-07-20T12:45:12.369602Z"
    }
   },
   "outputs": [],
   "source": [
    "from spacy.matcher import PhraseMatcher\n",
    "matcher = PhraseMatcher(nlp.vocab, attr='LOWER')"
   ]
  },
  {
   "cell_type": "markdown",
   "id": "6a48c8d7",
   "metadata": {},
   "source": [
    "The matcher is created using the vocabulary of your model. Here we're using the small English model you loaded earlier. Setting `attr='LOWER'` will match the phrases on lowercased text. This provides case insensitive matching.\n",
    "\n",
    "Next you create a list of terms to match in the text. The phrase matcher needs the patterns as document objects. The easiest way to get these is with a list comprehension using the nlp model."
   ]
  },
  {
   "cell_type": "code",
   "execution_count": 11,
   "id": "3ae4c8d3",
   "metadata": {
    "ExecuteTime": {
     "end_time": "2021-07-20T12:48:53.571402Z",
     "start_time": "2021-07-20T12:48:53.530383Z"
    }
   },
   "outputs": [],
   "source": [
    "terms = ['Galaxy Note', 'iPhone 11', 'iPhone XS', 'Google Pixel']\n",
    "patterns = [nlp(text) for text in terms]\n",
    "matcher.add(\"TerminologyList\", patterns)"
   ]
  },
  {
   "cell_type": "markdown",
   "id": "f9d26c48",
   "metadata": {},
   "source": [
    "Then you create a document from the text to search and use the phrase matcher to find where the terms occur in the text."
   ]
  },
  {
   "cell_type": "code",
   "execution_count": 16,
   "id": "8aebae6d",
   "metadata": {
    "ExecuteTime": {
     "end_time": "2021-07-20T12:52:13.151193Z",
     "start_time": "2021-07-20T12:52:13.133201Z"
    }
   },
   "outputs": [
    {
     "name": "stdout",
     "output_type": "stream",
     "text": [
      "[(3766102292120407359, 17, 19), (3766102292120407359, 22, 24), (3766102292120407359, 30, 32), (3766102292120407359, 33, 35)]\n"
     ]
    }
   ],
   "source": [
    "text_doc = nlp(\"Glowing review overall, and some really interesting side-by-side \"\n",
    "               \"photography tests pitting the iPhone 11 Pro against the \"\n",
    "               \"Galaxy Note 10 Plus and last year’s iPhone XS and Google Pixel 3.\") \n",
    "\n",
    "matches=matcher(text_doc)\n",
    "print(matches)"
   ]
  },
  {
   "cell_type": "markdown",
   "id": "31f2cf5c",
   "metadata": {},
   "source": [
    "The matches here are a tuple of the match id and the positions of the start and end of the phrase"
   ]
  },
  {
   "cell_type": "code",
   "execution_count": 18,
   "id": "30c32369",
   "metadata": {
    "ExecuteTime": {
     "end_time": "2021-07-20T15:10:02.135136Z",
     "start_time": "2021-07-20T15:10:02.129139Z"
    }
   },
   "outputs": [
    {
     "name": "stdout",
     "output_type": "stream",
     "text": [
      "TerminologyList iPhone 11\n"
     ]
    }
   ],
   "source": [
    "match_id, start, end = matches[0]\n",
    "print(nlp.vocab.strings[match_id], text_doc[start:end])"
   ]
  },
  {
   "cell_type": "markdown",
   "id": "ca96be0b",
   "metadata": {
    "ExecuteTime": {
     "end_time": "2021-07-20T15:10:11.987622Z",
     "start_time": "2021-07-20T15:10:11.981642Z"
    }
   },
   "source": [
    "**Basic Text Processing with Spacy**"
   ]
  },
  {
   "cell_type": "markdown",
   "id": "729cf90a",
   "metadata": {},
   "source": [
    "You're a consultant for DelFalco's Italian Restaurant. The owner asked you to identify whether there are any foods on their menu that diners find disappointing."
   ]
  },
  {
   "cell_type": "code",
   "execution_count": 20,
   "id": "be7a28cc",
   "metadata": {
    "ExecuteTime": {
     "end_time": "2021-07-20T15:12:02.927936Z",
     "start_time": "2021-07-20T15:11:55.538536Z"
    }
   },
   "outputs": [],
   "source": [
    "import pandas as pd"
   ]
  },
  {
   "cell_type": "code",
   "execution_count": 27,
   "id": "ae2fcd23",
   "metadata": {
    "ExecuteTime": {
     "end_time": "2021-07-20T15:33:43.551859Z",
     "start_time": "2021-07-20T15:33:43.488896Z"
    }
   },
   "outputs": [
    {
     "data": {
      "text/html": [
       "<div>\n",
       "<style scoped>\n",
       "    .dataframe tbody tr th:only-of-type {\n",
       "        vertical-align: middle;\n",
       "    }\n",
       "\n",
       "    .dataframe tbody tr th {\n",
       "        vertical-align: top;\n",
       "    }\n",
       "\n",
       "    .dataframe thead th {\n",
       "        text-align: right;\n",
       "    }\n",
       "</style>\n",
       "<table border=\"1\" class=\"dataframe\">\n",
       "  <thead>\n",
       "    <tr style=\"text-align: right;\">\n",
       "      <th></th>\n",
       "      <th>review_id</th>\n",
       "      <th>user_id</th>\n",
       "      <th>business_id</th>\n",
       "      <th>stars</th>\n",
       "      <th>useful</th>\n",
       "      <th>funny</th>\n",
       "      <th>cool</th>\n",
       "      <th>text</th>\n",
       "      <th>date</th>\n",
       "    </tr>\n",
       "  </thead>\n",
       "  <tbody>\n",
       "    <tr>\n",
       "      <th>109</th>\n",
       "      <td>lDJIaF4eYRF4F7g6Zb9euw</td>\n",
       "      <td>lb0QUR5bc4O-Am4hNq9ZGg</td>\n",
       "      <td>r5PLDU-4mSbde5XekTXSCA</td>\n",
       "      <td>4</td>\n",
       "      <td>2</td>\n",
       "      <td>0</td>\n",
       "      <td>0</td>\n",
       "      <td>I used to work food service and my manager at ...</td>\n",
       "      <td>2013-01-27 17:54:54</td>\n",
       "    </tr>\n",
       "    <tr>\n",
       "      <th>1013</th>\n",
       "      <td>vvIzf3pr8lTqE_AOsxmgaA</td>\n",
       "      <td>MAmijW4ooUzujkufYYLMeQ</td>\n",
       "      <td>r5PLDU-4mSbde5XekTXSCA</td>\n",
       "      <td>4</td>\n",
       "      <td>0</td>\n",
       "      <td>0</td>\n",
       "      <td>0</td>\n",
       "      <td>We have been trying Eggplant sandwiches all ov...</td>\n",
       "      <td>2015-04-15 04:50:56</td>\n",
       "    </tr>\n",
       "    <tr>\n",
       "      <th>1204</th>\n",
       "      <td>UF-JqzMczZ8vvp_4tPK3bQ</td>\n",
       "      <td>slfi6gf_qEYTXy90Sw93sg</td>\n",
       "      <td>r5PLDU-4mSbde5XekTXSCA</td>\n",
       "      <td>5</td>\n",
       "      <td>1</td>\n",
       "      <td>0</td>\n",
       "      <td>0</td>\n",
       "      <td>Amazing Steak and Cheese... Better than any Ph...</td>\n",
       "      <td>2011-03-20 00:57:45</td>\n",
       "    </tr>\n",
       "    <tr>\n",
       "      <th>1251</th>\n",
       "      <td>geUJGrKhXynxDC2uvERsLw</td>\n",
       "      <td>N_-UepOzAsuDQwOUtfRFGw</td>\n",
       "      <td>r5PLDU-4mSbde5XekTXSCA</td>\n",
       "      <td>1</td>\n",
       "      <td>0</td>\n",
       "      <td>0</td>\n",
       "      <td>0</td>\n",
       "      <td>Although I have been going to DeFalco's for ye...</td>\n",
       "      <td>2018-07-17 01:48:23</td>\n",
       "    </tr>\n",
       "    <tr>\n",
       "      <th>1354</th>\n",
       "      <td>aPctXPeZW3kDq36TRm-CqA</td>\n",
       "      <td>139hD7gkZVzSvSzDPwhNNw</td>\n",
       "      <td>r5PLDU-4mSbde5XekTXSCA</td>\n",
       "      <td>2</td>\n",
       "      <td>0</td>\n",
       "      <td>0</td>\n",
       "      <td>0</td>\n",
       "      <td>Highs: Ambience, value, pizza and deserts. Thi...</td>\n",
       "      <td>2018-01-21 10:52:58</td>\n",
       "    </tr>\n",
       "  </tbody>\n",
       "</table>\n",
       "</div>"
      ],
      "text/plain": [
       "                   review_id                 user_id             business_id  \\\n",
       "109   lDJIaF4eYRF4F7g6Zb9euw  lb0QUR5bc4O-Am4hNq9ZGg  r5PLDU-4mSbde5XekTXSCA   \n",
       "1013  vvIzf3pr8lTqE_AOsxmgaA  MAmijW4ooUzujkufYYLMeQ  r5PLDU-4mSbde5XekTXSCA   \n",
       "1204  UF-JqzMczZ8vvp_4tPK3bQ  slfi6gf_qEYTXy90Sw93sg  r5PLDU-4mSbde5XekTXSCA   \n",
       "1251  geUJGrKhXynxDC2uvERsLw  N_-UepOzAsuDQwOUtfRFGw  r5PLDU-4mSbde5XekTXSCA   \n",
       "1354  aPctXPeZW3kDq36TRm-CqA  139hD7gkZVzSvSzDPwhNNw  r5PLDU-4mSbde5XekTXSCA   \n",
       "\n",
       "      stars  useful  funny  cool  \\\n",
       "109       4       2      0     0   \n",
       "1013      4       0      0     0   \n",
       "1204      5       1      0     0   \n",
       "1251      1       0      0     0   \n",
       "1354      2       0      0     0   \n",
       "\n",
       "                                                   text                date  \n",
       "109   I used to work food service and my manager at ... 2013-01-27 17:54:54  \n",
       "1013  We have been trying Eggplant sandwiches all ov... 2015-04-15 04:50:56  \n",
       "1204  Amazing Steak and Cheese... Better than any Ph... 2011-03-20 00:57:45  \n",
       "1251  Although I have been going to DeFalco's for ye... 2018-07-17 01:48:23  \n",
       "1354  Highs: Ambience, value, pizza and deserts. Thi... 2018-01-21 10:52:58  "
      ]
     },
     "execution_count": 27,
     "metadata": {},
     "output_type": "execute_result"
    }
   ],
   "source": [
    "data = pd.read_json('data/restaurant.json')\n",
    "data.head()"
   ]
  },
  {
   "cell_type": "code",
   "execution_count": 26,
   "id": "49d04ff4",
   "metadata": {
    "ExecuteTime": {
     "end_time": "2021-07-20T15:33:30.450695Z",
     "start_time": "2021-07-20T15:33:30.444701Z"
    }
   },
   "outputs": [
    {
     "data": {
      "text/plain": [
       "11889"
      ]
     },
     "execution_count": 26,
     "metadata": {},
     "output_type": "execute_result"
    }
   ],
   "source": [
    "data.size"
   ]
  },
  {
   "cell_type": "code",
   "execution_count": 22,
   "id": "92ce73fa",
   "metadata": {
    "ExecuteTime": {
     "end_time": "2021-07-20T15:16:44.115632Z",
     "start_time": "2021-07-20T15:16:44.108637Z"
    }
   },
   "outputs": [],
   "source": [
    "menu = [\"Cheese Steak\", \"Cheesesteak\", \"Steak and Cheese\", \"Italian Combo\", \"Tiramisu\", \"Cannoli\",\n",
    "        \"Chicken Salad\", \"Chicken Spinach Salad\", \"Meatball\", \"Pizza\", \"Pizzas\", \"Spaghetti\",\n",
    "        \"Bruchetta\", \"Eggplant\", \"Italian Beef\", \"Purista\", \"Pasta\", \"Calzones\",  \"Calzone\",\n",
    "        \"Italian Sausage\", \"Chicken Cutlet\", \"Chicken Parm\", \"Chicken Parmesan\", \"Gnocchi\",\n",
    "        \"Chicken Pesto\", \"Turkey Sandwich\", \"Turkey Breast\", \"Ziti\", \"Portobello\", \"Reuben\",\n",
    "        \"Mozzarella Caprese\",  \"Corned Beef\", \"Garlic Bread\", \"Pastrami\", \"Roast Beef\",\n",
    "        \"Tuna Salad\", \"Lasagna\", \"Artichoke Salad\", \"Fettuccini Alfredo\", \"Chicken Parmigiana\",\n",
    "        \"Grilled Veggie\", \"Grilled Veggies\", \"Grilled Vegetable\", \"Mac and Cheese\", \"Macaroni\",  \n",
    "         \"Prosciutto\", \"Salami\"]"
   ]
  },
  {
   "cell_type": "markdown",
   "id": "35a794a2",
   "metadata": {},
   "source": [
    "The owner also gave you this list of menu items and common alternate spellings."
   ]
  },
  {
   "cell_type": "markdown",
   "id": "7d3da3f6",
   "metadata": {},
   "source": [
    "**Step 2: Find items in one review**\n",
    "\n",
    "You'll pursue this plan of calculating average scores of the reviews mentioning each menu item.\n",
    "\n",
    "As a first step, you'll write code to extract the foods mentioned in a single review.\n",
    "\n",
    "Since menu items are multiple tokens long, you'll use `PhraseMatcher` which can match series of tokens.\n",
    "\n",
    "Fill in the `____` values below to get a list of items matching a single menu item."
   ]
  },
  {
   "cell_type": "code",
   "execution_count": 31,
   "id": "0951c10f",
   "metadata": {
    "ExecuteTime": {
     "end_time": "2021-07-20T15:48:10.837664Z",
     "start_time": "2021-07-20T15:48:10.625786Z"
    }
   },
   "outputs": [],
   "source": [
    "import spacy\n",
    "from spacy.matcher import PhraseMatcher\n",
    "\n",
    "index_of_review_to_test_on=14\n",
    "text_to_test_on = data.text.iloc[index_of_review_to_test_on]\n",
    "\n",
    "# Load the SpaCy model\n",
    "nlp=spacy.blank('en')\n",
    "\n",
    "#Create the tokenized version of text_to_test_on\n",
    "review_doc= nlp(text_to_test_on)\n",
    "\n",
    "# Create the PhraseMatcher object. The tokenizer is the first argument. Use attr = 'LOWER' to make consistent capitalization\n",
    "matcher=PhraseMatcher(nlp.vocab, attr=\"LOWER\")\n"
   ]
  },
  {
   "cell_type": "code",
   "execution_count": null,
   "id": "709bc450",
   "metadata": {},
   "outputs": [],
   "source": []
  },
  {
   "cell_type": "code",
   "execution_count": null,
   "id": "20dca5d4",
   "metadata": {},
   "outputs": [],
   "source": []
  },
  {
   "cell_type": "code",
   "execution_count": null,
   "id": "93b7421d",
   "metadata": {},
   "outputs": [],
   "source": []
  },
  {
   "cell_type": "code",
   "execution_count": null,
   "id": "9afc4e27",
   "metadata": {},
   "outputs": [],
   "source": []
  },
  {
   "cell_type": "code",
   "execution_count": null,
   "id": "1bb984b9",
   "metadata": {},
   "outputs": [],
   "source": []
  },
  {
   "cell_type": "code",
   "execution_count": null,
   "id": "eba99795",
   "metadata": {},
   "outputs": [],
   "source": []
  }
 ],
 "metadata": {
  "kernelspec": {
   "display_name": "Python 3",
   "language": "python",
   "name": "python3"
  },
  "language_info": {
   "codemirror_mode": {
    "name": "ipython",
    "version": 3
   },
   "file_extension": ".py",
   "mimetype": "text/x-python",
   "name": "python",
   "nbconvert_exporter": "python",
   "pygments_lexer": "ipython3",
   "version": "3.9.5"
  }
 },
 "nbformat": 4,
 "nbformat_minor": 5
}
