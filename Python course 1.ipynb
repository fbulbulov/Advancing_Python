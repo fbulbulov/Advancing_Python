{
 "cells": [
  {
   "cell_type": "markdown",
   "metadata": {},
   "source": [
    "**Age calculator:**"
   ]
  },
  {
   "cell_type": "code",
   "execution_count": 2,
   "metadata": {},
   "outputs": [
    {
     "name": "stdout",
     "output_type": "stream",
     "text": [
      "Birth year: 1989\n",
      "32\n"
     ]
    }
   ],
   "source": [
    "birth_year = input('Birth year: ')\n",
    "age = 2021  - int(birth_year)\n",
    "print (age)"
   ]
  },
  {
   "cell_type": "markdown",
   "metadata": {},
   "source": [
    "**Weight converter (lbs to kg):**"
   ]
  },
  {
   "cell_type": "code",
   "execution_count": 10,
   "metadata": {},
   "outputs": [
    {
     "name": "stdout",
     "output_type": "stream",
     "text": [
      "Your weight(lbs): 100\n",
      "45.35 kg\n"
     ]
    }
   ],
   "source": [
    "weight_p= input('Your weight(lbs): ',)\n",
    "weight_kg = int(weight_p)/2.205\n",
    "print (round(weight_kg,2), 'kg')"
   ]
  },
  {
   "cell_type": "markdown",
   "metadata": {},
   "source": [
    "**Formatted strings**"
   ]
  },
  {
   "cell_type": "code",
   "execution_count": 11,
   "metadata": {},
   "outputs": [
    {
     "name": "stdout",
     "output_type": "stream",
     "text": [
      "John [Smith] is a coder\n",
      "John [Smith] is a coder\n"
     ]
    }
   ],
   "source": [
    "first = 'John'\n",
    "last = 'Smith'\n",
    "message = first + ' ['+ last + '] is a coder'\n",
    "msg = f'{first} [{last}] is a coder' # Formatted strings\n",
    "print (message)\n",
    "print (msg)"
   ]
  },
  {
   "cell_type": "markdown",
   "metadata": {},
   "source": [
    "**String methods**"
   ]
  },
  {
   "cell_type": "code",
   "execution_count": 12,
   "metadata": {},
   "outputs": [
    {
     "name": "stdout",
     "output_type": "stream",
     "text": [
      "24\n",
      "PYTHON FOR PROFESSIONALS\n",
      "Python for Professionals\n",
      "python for professionals\n",
      "4\n",
      "Python for experts\n",
      "True\n"
     ]
    }
   ],
   "source": [
    "course = 'Python for Professionals'\n",
    "print (len(course))\n",
    "print (course.upper())\n",
    "print (course)\n",
    "print (course.lower())\n",
    "print (course.find('o'))\n",
    "print (course.replace('Professionals', 'experts'))\n",
    "print ('Python' in course)"
   ]
  },
  {
   "cell_type": "markdown",
   "metadata": {},
   "source": [
    "**Arithmetic operations**"
   ]
  },
  {
   "cell_type": "code",
   "execution_count": 14,
   "metadata": {},
   "outputs": [
    {
     "name": "stdout",
     "output_type": "stream",
     "text": [
      "3\n",
      "1\n",
      "1000\n",
      "7\n"
     ]
    }
   ],
   "source": [
    "print (10 // 3) # integer\n",
    "print (10 % 3 ) # remainder\n",
    "print (10 ** 3) # exponent\n",
    "\n",
    "x = 10\n",
    "x -= 3\n",
    "print (x)\n"
   ]
  },
  {
   "cell_type": "markdown",
   "metadata": {},
   "source": [
    "**Operator precedence**"
   ]
  },
  {
   "cell_type": "code",
   "execution_count": 16,
   "metadata": {},
   "outputs": [
    {
     "name": "stdout",
     "output_type": "stream",
     "text": [
      "22\n",
      "52\n"
     ]
    }
   ],
   "source": [
    "x = 10 + 3 * 2 ** 2 # 1)exponentiation, 2)* or / , 3) + or -\n",
    "y = (10 + 3) * 2 ** 2 # 1. parenthesis\n",
    "print (x)\n",
    "print (y)"
   ]
  },
  {
   "cell_type": "markdown",
   "metadata": {},
   "source": [
    "**Math operations**"
   ]
  },
  {
   "cell_type": "code",
   "execution_count": 22,
   "metadata": {},
   "outputs": [
    {
     "name": "stdout",
     "output_type": "stream",
     "text": [
      "3\n",
      "1\n",
      "2.9\n",
      "3\n",
      "2\n"
     ]
    }
   ],
   "source": [
    "import math # math methods\n",
    "x = 2.9\n",
    "print (round(x))\n",
    "\n",
    "y = -1\n",
    "print (abs(y)) # absolute value\n",
    "import math\n",
    "\n",
    "print (2.9)\n",
    "print (math.ceil(2.9))\n",
    "print (math.floor(2.9))"
   ]
  },
  {
   "cell_type": "markdown",
   "metadata": {},
   "source": [
    "**If statements**"
   ]
  },
  {
   "cell_type": "code",
   "execution_count": 33,
   "metadata": {},
   "outputs": [
    {
     "name": "stdout",
     "output_type": "stream",
     "text": [
      "It's a cold day\n",
      "Wear warm clothes\n",
      "Enjoy your day\n"
     ]
    }
   ],
   "source": [
    "is_hot = False\n",
    "is_cold = True\n",
    "if is_hot:\n",
    "    print (\"It'a hot day\")\n",
    "    print (\"Dring plenty of water\")\n",
    "elif is_cold:\n",
    "    print (\"It's a cold day\")\n",
    "    print (\"Wear warm clothes\")\n",
    "else:\n",
    "    print (\"It's a lovely day\")\n",
    "\n",
    "print ('Enjoy your day')"
   ]
  },
  {
   "cell_type": "code",
   "execution_count": 46,
   "metadata": {},
   "outputs": [
    {
     "name": "stdout",
     "output_type": "stream",
     "text": [
      "Down payment= 100000.0 $\n"
     ]
    }
   ],
   "source": [
    "buyer_credit = True\n",
    "price = 1000000 \n",
    "\n",
    "if buyer_credit:\n",
    "    down_payment=int(price)*0.1\n",
    "else:\n",
    "    down_payment=int(price)*0.2\n",
    "print(f\"Down payment= {down_payment} $\")\n"
   ]
  },
  {
   "cell_type": "markdown",
   "metadata": {},
   "source": [
    "**Logical operator**"
   ]
  },
  {
   "cell_type": "code",
   "execution_count": 52,
   "metadata": {},
   "outputs": [
    {
     "name": "stdout",
     "output_type": "stream",
     "text": [
      "Eligible for loan\n"
     ]
    }
   ],
   "source": [
    "has_high_income = True\n",
    "has_good_credit = True\n",
    "if has_high_income and has_good_credit:\n",
    "    print (\"Eligible for loan\")"
   ]
  },
  {
   "cell_type": "code",
   "execution_count": 61,
   "metadata": {},
   "outputs": [
    {
     "name": "stdout",
     "output_type": "stream",
     "text": [
      "Not eligible for loan\n"
     ]
    }
   ],
   "source": [
    "has_criminal_record = True\n",
    "has_good_credit = True\n",
    "\n",
    "if has_good_credit and not has_criminal_record:\n",
    "    print (\"Eligible for loan\")\n",
    "else:\n",
    "    print (\"Not eligible for loan\")"
   ]
  },
  {
   "cell_type": "markdown",
   "metadata": {},
   "source": [
    "**Comparison Operators**"
   ]
  },
  {
   "cell_type": "code",
   "execution_count": 66,
   "metadata": {},
   "outputs": [
    {
     "name": "stdout",
     "output_type": "stream",
     "text": [
      "It's a hot day\n"
     ]
    }
   ],
   "source": [
    "temperature = 30\n",
    "\n",
    "if temperature >= 30:\n",
    "    print (\"It's a hot day\")\n",
    "else:\n",
    "    print (\"It's not a hot day\")"
   ]
  },
  {
   "cell_type": "code",
   "execution_count": 70,
   "metadata": {},
   "outputs": [
    {
     "name": "stdout",
     "output_type": "stream",
     "text": [
      "Your Name: dkafjakjfadskfjalkfj\n",
      "Name can be maximum of 10 characters\n"
     ]
    }
   ],
   "source": [
    "name = input (\"Your Name: \")\n",
    "if len(name) < 3:\n",
    "    print (\"Your name must be at least 3 characters\")\n",
    "elif len(name) > 10:\n",
    "    print (\"Name can be maximum of 10 characters\")\n",
    "else:\n",
    "    print (\"You have a great name!\")"
   ]
  },
  {
   "cell_type": "markdown",
   "metadata": {},
   "source": [
    "**While Loops**"
   ]
  },
  {
   "cell_type": "code",
   "execution_count": 77,
   "metadata": {},
   "outputs": [
    {
     "name": "stdout",
     "output_type": "stream",
     "text": [
      "*\n",
      "**\n",
      "***\n",
      "****\n",
      "*****\n",
      "Done!\n"
     ]
    }
   ],
   "source": [
    "i = 1\n",
    "while i <= 5:\n",
    "    print ('*' * i)\n",
    "    i += 1\n",
    "print (\"Done!\")"
   ]
  },
  {
   "cell_type": "markdown",
   "metadata": {},
   "source": [
    "**For Loops**"
   ]
  },
  {
   "cell_type": "code",
   "execution_count": 79,
   "metadata": {},
   "outputs": [
    {
     "name": "stdout",
     "output_type": "stream",
     "text": [
      "Mosh\n",
      "Farrukh\n",
      "Sarah\n"
     ]
    }
   ],
   "source": [
    "for item in ['Mosh', 'Farrukh', 'Sarah']:\n",
    "    print (item)  "
   ]
  },
  {
   "cell_type": "code",
   "execution_count": 89,
   "metadata": {},
   "outputs": [
    {
     "name": "stdout",
     "output_type": "stream",
     "text": [
      "0\n",
      "1\n",
      "2\n",
      "3\n",
      "4\n",
      "5\n",
      "6\n",
      "7\n",
      "8\n",
      "9\n"
     ]
    }
   ],
   "source": [
    "for item in range(10):\n",
    "    print (item)"
   ]
  },
  {
   "cell_type": "code",
   "execution_count": 90,
   "metadata": {},
   "outputs": [
    {
     "name": "stdout",
     "output_type": "stream",
     "text": [
      "5\n",
      "7\n",
      "9\n"
     ]
    }
   ],
   "source": [
    "for item in range(5,10,2):\n",
    "    print (item)"
   ]
  },
  {
   "cell_type": "code",
   "execution_count": 91,
   "metadata": {},
   "outputs": [
    {
     "name": "stdout",
     "output_type": "stream",
     "text": [
      "100\n",
      "200\n",
      "300\n"
     ]
    }
   ],
   "source": [
    "prices= [10,20,30]\n",
    "for item in prices:\n",
    "    a = item * 300\n",
    "    print (a)"
   ]
  },
  {
   "cell_type": "code",
   "execution_count": 95,
   "metadata": {},
   "outputs": [
    {
     "name": "stdout",
     "output_type": "stream",
     "text": [
      "60\n"
     ]
    }
   ],
   "source": [
    "prices= [10,20,30]\n",
    "total=0\n",
    "for price in prices:\n",
    "    total += price\n",
    "print(f\"total{total}"
   ]
  },
  {
   "cell_type": "code",
   "execution_count": null,
   "metadata": {},
   "outputs": [],
   "source": []
  }
 ],
 "metadata": {
  "kernelspec": {
   "display_name": "Python 3",
   "language": "python",
   "name": "python3"
  },
  "language_info": {
   "codemirror_mode": {
    "name": "ipython",
    "version": 3
   },
   "file_extension": ".py",
   "mimetype": "text/x-python",
   "name": "python",
   "nbconvert_exporter": "python",
   "pygments_lexer": "ipython3",
   "version": "3.8.5"
  }
 },
 "nbformat": 4,
 "nbformat_minor": 4
}
