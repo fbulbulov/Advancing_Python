{
 "cells": [
  {
   "cell_type": "markdown",
   "metadata": {},
   "source": [
    "**Project 1: Weight Converter**"
   ]
  },
  {
   "cell_type": "code",
   "execution_count": 8,
   "metadata": {},
   "outputs": [
    {
     "name": "stdout",
     "output_type": "stream",
     "text": [
      "Your weight: 12\n",
      "(l)bs or (k)kg: K\n",
      "You are 26.46 pounds\n"
     ]
    }
   ],
   "source": [
    "weight= input (\"Your weight: \")\n",
    "measurement = input (\"(l)bs or (k)kg: \")\n",
    "\n",
    "if measurement.lower() == 'l':\n",
    "    print (f\"Your are {weight} pounds\")\n",
    "elif measurement.lower() == 'k':\n",
    "    converter= int(weight) * 2.205\n",
    "    print (f\"You are {converter} pounds\")\n",
    "else:\n",
    "    print (\"Type only L or K\")\n"
   ]
  },
  {
   "cell_type": "code",
   "execution_count": null,
   "metadata": {},
   "outputs": [],
   "source": []
  }
 ],
 "metadata": {
  "kernelspec": {
   "display_name": "Python 3",
   "language": "python",
   "name": "python3"
  },
  "language_info": {
   "codemirror_mode": {
    "name": "ipython",
    "version": 3
   },
   "file_extension": ".py",
   "mimetype": "text/x-python",
   "name": "python",
   "nbconvert_exporter": "python",
   "pygments_lexer": "ipython3",
   "version": "3.8.5"
  }
 },
 "nbformat": 4,
 "nbformat_minor": 4
}
